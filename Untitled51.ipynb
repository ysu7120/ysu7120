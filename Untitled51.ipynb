{
  "nbformat": 4,
  "nbformat_minor": 0,
  "metadata": {
    "colab": {
      "provenance": [],
      "authorship_tag": "ABX9TyNJrwMX1TzhRqNxrQc6kTjA",
      "include_colab_link": true
    },
    "kernelspec": {
      "name": "python3",
      "display_name": "Python 3"
    },
    "language_info": {
      "name": "python"
    }
  },
  "cells": [
    {
      "cell_type": "markdown",
      "metadata": {
        "id": "view-in-github",
        "colab_type": "text"
      },
      "source": [
        "<a href=\"https://colab.research.google.com/github/ysu7120/ysu7120/blob/code-study/Untitled51.ipynb\" target=\"_parent\"><img src=\"https://colab.research.google.com/assets/colab-badge.svg\" alt=\"Open In Colab\"/></a>"
      ]
    },
    {
      "cell_type": "code",
      "execution_count": null,
      "metadata": {
        "colab": {
          "base_uri": "https://localhost:8080/"
        },
        "id": "5lmTFI1-0PBA",
        "outputId": "71b9c841-65e9-4b9e-fc08-a4fbd6521981"
      },
      "outputs": [
        {
          "output_type": "stream",
          "name": "stdout",
          "text": [
            "5 6 4\n",
            "1 2\n",
            "1 4\n",
            "3 1\n",
            "4 2\n",
            "4 5\n",
            "5 3\n",
            "-1\n"
          ]
        }
      ],
      "source": [
        "from collections import deque\n",
        "\n",
        "# Function to perform BFS on the graph\n",
        "def bfs(graph, start):\n",
        "    queue = deque([(start, 0)])\n",
        "    visited = set([start])\n",
        "\n",
        "    while queue:\n",
        "        curr, cnt = queue.popleft()\n",
        "        if curr == start and cnt > 0:\n",
        "            return cnt\n",
        "        for next_node in graph[curr]:\n",
        "            if next_node not in visited:\n",
        "                visited.add(next_node)\n",
        "                queue.append((next_node, cnt + 1))\n",
        "\n",
        "    return -1\n",
        "\n",
        "# Main function to find the answer\n",
        "def find_return_bridges(n, m, k, bridges):\n",
        "    # Create an adjacency list representation of the graph\n",
        "    graph = {i: [] for i in range(1, n + 1)}\n",
        "    for a, b in bridges:\n",
        "        graph[a].append(b)\n",
        "\n",
        "    # Perform BFS to find the minimum return route\n",
        "    return_bridges = bfs(graph, k)\n",
        "\n",
        "    # Return the answer\n",
        "    return return_bridges\n",
        "\n",
        "# Read input values\n",
        "n, m, k = map(int, input().split())\n",
        "bridges = []\n",
        "for _ in range(m):\n",
        "    a, b = map(int, input().split())\n",
        "    bridges.append((a, b))\n",
        "\n",
        "# Find the answer\n",
        "return_bridges = find_return_bridges(n, m, k, bridges)\n",
        "\n",
        "# Output the answer\n",
        "print(return_bridges)"
      ]
    }
  ]
}