{
  "nbformat": 4,
  "nbformat_minor": 0,
  "metadata": {
    "colab": {
      "provenance": []
    },
    "kernelspec": {
      "name": "python3",
      "display_name": "Python 3"
    },
    "language_info": {
      "name": "python"
    },
    "accelerator": "GPU",
    "gpuClass": "standard"
  },
  "cells": [
    {
      "cell_type": "code",
      "execution_count": 2,
      "metadata": {
        "id": "-H9UrxzbkRn8"
      },
      "outputs": [],
      "source": [
        "%matplotlib inline\n",
        "import pandas as pd\n",
        "import matplotlib.pyplot as plt\n",
        "import os,sys\n",
        "import numpy as np\n",
        "from keras.layers import *\n",
        "from keras.models import *\n",
        "from keras.utils import *\n",
        "from sklearn.preprocessing import *"
      ]
    },
    {
      "cell_type": "markdown",
      "source": [
        "#원본데이터"
      ],
      "metadata": {
        "id": "iBQuRmrLAWrJ"
      }
    },
    {
      "cell_type": "code",
      "source": [
        "# csv 파일을 데이터프레임으로 바꾸기 \n",
        "# 인코딩 : UnicodeDecodeError가 발생하면 encoding을 바꿔볼것\n",
        "# utf-8, euc-kr, cp949\n",
        "# 파일을 인덱스로 지정\n",
        "df = pd.read_csv(\"/content/drive/MyDrive/population/LOCAL_PEOPLE_DONG_201912.csv\", encoding='utf-8')\n",
        "df"
      ],
      "metadata": {
        "colab": {
          "base_uri": "https://localhost:8080/",
          "height": 661
        },
        "id": "ablYX0JrAVSX",
        "outputId": "fc145dd7-59ab-4d3b-ee55-aaee67f85e4d"
      },
      "execution_count": 85,
      "outputs": [
        {
          "output_type": "execute_result",
          "data": {
            "text/plain": [
              "          기준일ID     시간대구분       행정동코드     총생활인구수  남자0세부터9세생활인구수  \\\n",
              "20191201      0  11215710  45694.9988   452.3937       208.7971   \n",
              "20191201      0  11680545  37375.4506  1298.5585       731.2901   \n",
              "20191201      0  11680610  37266.9526  1083.2150      1559.2566   \n",
              "20191201      0  11680655  25231.2064  1191.0306       607.5946   \n",
              "20191201      0  11710570  40728.5564  1586.6273       818.9047   \n",
              "...         ...       ...         ...        ...            ...   \n",
              "20191231     23  11740610  47108.0384  1530.5533       684.2480   \n",
              "20191231     23  11740685  56004.5812  1777.7481       859.6586   \n",
              "20191231     23  11740640  26471.4234  1150.2747       594.0026   \n",
              "20191231     23  11740650  27986.5462  1070.9042       371.4830   \n",
              "20191231     23  11740700  32974.4339  1364.7863       688.4728   \n",
              "\n",
              "          남자10세부터14세생활인구수  남자15세부터19세생활인구수  남자20세부터24세생활인구수  남자25세부터29세생활인구수  \\\n",
              "20191201        1267.7678        5642.9235        5433.6801        2494.5993   \n",
              "20191201         889.5126         895.5983        1397.2099        1609.7025   \n",
              "20191201        2339.8178         991.4434         990.1854         946.7321   \n",
              "20191201         639.2233         608.4116         697.5009         663.3373   \n",
              "20191201        1204.9034        1172.2571        1195.7198        1163.9396   \n",
              "...                   ...              ...              ...              ...   \n",
              "20191231        1261.2936        1346.8427        1772.9466        1919.2425   \n",
              "20191231        1252.0765        1500.0176        1999.8669        1869.7091   \n",
              "20191231         731.9921         543.0908         682.9012         856.1581   \n",
              "20191231         566.1300         747.7386        1173.3330        1189.2734   \n",
              "20191231         816.0758         762.3534         957.2146         986.8085   \n",
              "\n",
              "          남자30세부터34세생활인구수  ...  여자25세부터29세생활인구수  여자30세부터34세생활인구수  \\\n",
              "20191201        1691.4831  ...        2036.1446        1285.4200   \n",
              "20191201        1825.4062  ...        1503.9461        1752.1118   \n",
              "20191201        1035.0291  ...         888.9359         997.1139   \n",
              "20191201         919.4319  ...         876.7431        1119.2400   \n",
              "20191201        1472.8633  ...        1321.7052        1625.5710   \n",
              "...                   ...  ...              ...              ...   \n",
              "20191231        2226.9075  ...        1836.2225        1842.3955   \n",
              "20191231        2371.1216  ...        2173.7660        2183.6664   \n",
              "20191231        1132.5655  ...         926.6463        1231.7519   \n",
              "20191231        1283.0338  ...        1167.0023        1150.3829   \n",
              "20191231        1254.1564  ...         951.7186        1220.0583   \n",
              "\n",
              "          여자35세부터39세생활인구수  여자40세부터44세생활인구수  여자45세부터49세생활인구수  여자50세부터54세생활인구수  \\\n",
              "20191201         794.6241         833.7179         772.1417         773.2152   \n",
              "20191201        1591.0488        1555.4675        1033.6247        1094.5083   \n",
              "20191201        1738.2101        2423.0246        1408.2536        1184.3355   \n",
              "20191201        1051.8991        1274.9860         852.3075         933.6367   \n",
              "20191201        1434.9812        1861.6645        1766.8905        1991.8166   \n",
              "...                   ...              ...              ...              ...   \n",
              "20191231        1669.1141        1746.4848        1805.8380        2198.6277   \n",
              "20191231        2088.3162        2559.8771        2309.2951        2736.9112   \n",
              "20191231        1213.1097        1152.5178        1060.8198        1234.5424   \n",
              "20191231        1146.3252        1050.6582         997.6744        1322.4171   \n",
              "20191231        1189.0528        1298.7248        1331.3742        1598.7414   \n",
              "\n",
              "          여자55세부터59세생활인구수  여자60세부터64세생활인구수  여자65세부터69세생활인구수  여자70세이상생활인구수  \n",
              "20191201         827.1455         565.5378        1405.3707           NaN  \n",
              "20191201         988.0638         944.5295        2710.1619           NaN  \n",
              "20191201        1071.2366         858.9868        1878.8251           NaN  \n",
              "20191201         949.1604         637.7794        1557.6550           NaN  \n",
              "20191201        1977.4260        1332.3513        2779.2676           NaN  \n",
              "...                   ...              ...              ...           ...  \n",
              "20191231        1971.4508        1509.8941        3397.6009           NaN  \n",
              "20191231        2354.2835        1820.0325        3858.1011           NaN  \n",
              "20191231        1112.0217         937.4364        1743.6741           NaN  \n",
              "20191231        1105.3542         965.8775        1934.5264           NaN  \n",
              "20191231        1458.6600        1275.6589        2708.7187           NaN  \n",
              "\n",
              "[315456 rows x 32 columns]"
            ],
            "text/html": [
              "\n",
              "  <div id=\"df-52cf6057-d9df-4a57-8e93-e03be0e111ca\">\n",
              "    <div class=\"colab-df-container\">\n",
              "      <div>\n",
              "<style scoped>\n",
              "    .dataframe tbody tr th:only-of-type {\n",
              "        vertical-align: middle;\n",
              "    }\n",
              "\n",
              "    .dataframe tbody tr th {\n",
              "        vertical-align: top;\n",
              "    }\n",
              "\n",
              "    .dataframe thead th {\n",
              "        text-align: right;\n",
              "    }\n",
              "</style>\n",
              "<table border=\"1\" class=\"dataframe\">\n",
              "  <thead>\n",
              "    <tr style=\"text-align: right;\">\n",
              "      <th></th>\n",
              "      <th>기준일ID</th>\n",
              "      <th>시간대구분</th>\n",
              "      <th>행정동코드</th>\n",
              "      <th>총생활인구수</th>\n",
              "      <th>남자0세부터9세생활인구수</th>\n",
              "      <th>남자10세부터14세생활인구수</th>\n",
              "      <th>남자15세부터19세생활인구수</th>\n",
              "      <th>남자20세부터24세생활인구수</th>\n",
              "      <th>남자25세부터29세생활인구수</th>\n",
              "      <th>남자30세부터34세생활인구수</th>\n",
              "      <th>...</th>\n",
              "      <th>여자25세부터29세생활인구수</th>\n",
              "      <th>여자30세부터34세생활인구수</th>\n",
              "      <th>여자35세부터39세생활인구수</th>\n",
              "      <th>여자40세부터44세생활인구수</th>\n",
              "      <th>여자45세부터49세생활인구수</th>\n",
              "      <th>여자50세부터54세생활인구수</th>\n",
              "      <th>여자55세부터59세생활인구수</th>\n",
              "      <th>여자60세부터64세생활인구수</th>\n",
              "      <th>여자65세부터69세생활인구수</th>\n",
              "      <th>여자70세이상생활인구수</th>\n",
              "    </tr>\n",
              "  </thead>\n",
              "  <tbody>\n",
              "    <tr>\n",
              "      <th>20191201</th>\n",
              "      <td>0</td>\n",
              "      <td>11215710</td>\n",
              "      <td>45694.9988</td>\n",
              "      <td>452.3937</td>\n",
              "      <td>208.7971</td>\n",
              "      <td>1267.7678</td>\n",
              "      <td>5642.9235</td>\n",
              "      <td>5433.6801</td>\n",
              "      <td>2494.5993</td>\n",
              "      <td>1691.4831</td>\n",
              "      <td>...</td>\n",
              "      <td>2036.1446</td>\n",
              "      <td>1285.4200</td>\n",
              "      <td>794.6241</td>\n",
              "      <td>833.7179</td>\n",
              "      <td>772.1417</td>\n",
              "      <td>773.2152</td>\n",
              "      <td>827.1455</td>\n",
              "      <td>565.5378</td>\n",
              "      <td>1405.3707</td>\n",
              "      <td>NaN</td>\n",
              "    </tr>\n",
              "    <tr>\n",
              "      <th>20191201</th>\n",
              "      <td>0</td>\n",
              "      <td>11680545</td>\n",
              "      <td>37375.4506</td>\n",
              "      <td>1298.5585</td>\n",
              "      <td>731.2901</td>\n",
              "      <td>889.5126</td>\n",
              "      <td>895.5983</td>\n",
              "      <td>1397.2099</td>\n",
              "      <td>1609.7025</td>\n",
              "      <td>1825.4062</td>\n",
              "      <td>...</td>\n",
              "      <td>1503.9461</td>\n",
              "      <td>1752.1118</td>\n",
              "      <td>1591.0488</td>\n",
              "      <td>1555.4675</td>\n",
              "      <td>1033.6247</td>\n",
              "      <td>1094.5083</td>\n",
              "      <td>988.0638</td>\n",
              "      <td>944.5295</td>\n",
              "      <td>2710.1619</td>\n",
              "      <td>NaN</td>\n",
              "    </tr>\n",
              "    <tr>\n",
              "      <th>20191201</th>\n",
              "      <td>0</td>\n",
              "      <td>11680610</td>\n",
              "      <td>37266.9526</td>\n",
              "      <td>1083.2150</td>\n",
              "      <td>1559.2566</td>\n",
              "      <td>2339.8178</td>\n",
              "      <td>991.4434</td>\n",
              "      <td>990.1854</td>\n",
              "      <td>946.7321</td>\n",
              "      <td>1035.0291</td>\n",
              "      <td>...</td>\n",
              "      <td>888.9359</td>\n",
              "      <td>997.1139</td>\n",
              "      <td>1738.2101</td>\n",
              "      <td>2423.0246</td>\n",
              "      <td>1408.2536</td>\n",
              "      <td>1184.3355</td>\n",
              "      <td>1071.2366</td>\n",
              "      <td>858.9868</td>\n",
              "      <td>1878.8251</td>\n",
              "      <td>NaN</td>\n",
              "    </tr>\n",
              "    <tr>\n",
              "      <th>20191201</th>\n",
              "      <td>0</td>\n",
              "      <td>11680655</td>\n",
              "      <td>25231.2064</td>\n",
              "      <td>1191.0306</td>\n",
              "      <td>607.5946</td>\n",
              "      <td>639.2233</td>\n",
              "      <td>608.4116</td>\n",
              "      <td>697.5009</td>\n",
              "      <td>663.3373</td>\n",
              "      <td>919.4319</td>\n",
              "      <td>...</td>\n",
              "      <td>876.7431</td>\n",
              "      <td>1119.2400</td>\n",
              "      <td>1051.8991</td>\n",
              "      <td>1274.9860</td>\n",
              "      <td>852.3075</td>\n",
              "      <td>933.6367</td>\n",
              "      <td>949.1604</td>\n",
              "      <td>637.7794</td>\n",
              "      <td>1557.6550</td>\n",
              "      <td>NaN</td>\n",
              "    </tr>\n",
              "    <tr>\n",
              "      <th>20191201</th>\n",
              "      <td>0</td>\n",
              "      <td>11710570</td>\n",
              "      <td>40728.5564</td>\n",
              "      <td>1586.6273</td>\n",
              "      <td>818.9047</td>\n",
              "      <td>1204.9034</td>\n",
              "      <td>1172.2571</td>\n",
              "      <td>1195.7198</td>\n",
              "      <td>1163.9396</td>\n",
              "      <td>1472.8633</td>\n",
              "      <td>...</td>\n",
              "      <td>1321.7052</td>\n",
              "      <td>1625.5710</td>\n",
              "      <td>1434.9812</td>\n",
              "      <td>1861.6645</td>\n",
              "      <td>1766.8905</td>\n",
              "      <td>1991.8166</td>\n",
              "      <td>1977.4260</td>\n",
              "      <td>1332.3513</td>\n",
              "      <td>2779.2676</td>\n",
              "      <td>NaN</td>\n",
              "    </tr>\n",
              "    <tr>\n",
              "      <th>...</th>\n",
              "      <td>...</td>\n",
              "      <td>...</td>\n",
              "      <td>...</td>\n",
              "      <td>...</td>\n",
              "      <td>...</td>\n",
              "      <td>...</td>\n",
              "      <td>...</td>\n",
              "      <td>...</td>\n",
              "      <td>...</td>\n",
              "      <td>...</td>\n",
              "      <td>...</td>\n",
              "      <td>...</td>\n",
              "      <td>...</td>\n",
              "      <td>...</td>\n",
              "      <td>...</td>\n",
              "      <td>...</td>\n",
              "      <td>...</td>\n",
              "      <td>...</td>\n",
              "      <td>...</td>\n",
              "      <td>...</td>\n",
              "      <td>...</td>\n",
              "    </tr>\n",
              "    <tr>\n",
              "      <th>20191231</th>\n",
              "      <td>23</td>\n",
              "      <td>11740610</td>\n",
              "      <td>47108.0384</td>\n",
              "      <td>1530.5533</td>\n",
              "      <td>684.2480</td>\n",
              "      <td>1261.2936</td>\n",
              "      <td>1346.8427</td>\n",
              "      <td>1772.9466</td>\n",
              "      <td>1919.2425</td>\n",
              "      <td>2226.9075</td>\n",
              "      <td>...</td>\n",
              "      <td>1836.2225</td>\n",
              "      <td>1842.3955</td>\n",
              "      <td>1669.1141</td>\n",
              "      <td>1746.4848</td>\n",
              "      <td>1805.8380</td>\n",
              "      <td>2198.6277</td>\n",
              "      <td>1971.4508</td>\n",
              "      <td>1509.8941</td>\n",
              "      <td>3397.6009</td>\n",
              "      <td>NaN</td>\n",
              "    </tr>\n",
              "    <tr>\n",
              "      <th>20191231</th>\n",
              "      <td>23</td>\n",
              "      <td>11740685</td>\n",
              "      <td>56004.5812</td>\n",
              "      <td>1777.7481</td>\n",
              "      <td>859.6586</td>\n",
              "      <td>1252.0765</td>\n",
              "      <td>1500.0176</td>\n",
              "      <td>1999.8669</td>\n",
              "      <td>1869.7091</td>\n",
              "      <td>2371.1216</td>\n",
              "      <td>...</td>\n",
              "      <td>2173.7660</td>\n",
              "      <td>2183.6664</td>\n",
              "      <td>2088.3162</td>\n",
              "      <td>2559.8771</td>\n",
              "      <td>2309.2951</td>\n",
              "      <td>2736.9112</td>\n",
              "      <td>2354.2835</td>\n",
              "      <td>1820.0325</td>\n",
              "      <td>3858.1011</td>\n",
              "      <td>NaN</td>\n",
              "    </tr>\n",
              "    <tr>\n",
              "      <th>20191231</th>\n",
              "      <td>23</td>\n",
              "      <td>11740640</td>\n",
              "      <td>26471.4234</td>\n",
              "      <td>1150.2747</td>\n",
              "      <td>594.0026</td>\n",
              "      <td>731.9921</td>\n",
              "      <td>543.0908</td>\n",
              "      <td>682.9012</td>\n",
              "      <td>856.1581</td>\n",
              "      <td>1132.5655</td>\n",
              "      <td>...</td>\n",
              "      <td>926.6463</td>\n",
              "      <td>1231.7519</td>\n",
              "      <td>1213.1097</td>\n",
              "      <td>1152.5178</td>\n",
              "      <td>1060.8198</td>\n",
              "      <td>1234.5424</td>\n",
              "      <td>1112.0217</td>\n",
              "      <td>937.4364</td>\n",
              "      <td>1743.6741</td>\n",
              "      <td>NaN</td>\n",
              "    </tr>\n",
              "    <tr>\n",
              "      <th>20191231</th>\n",
              "      <td>23</td>\n",
              "      <td>11740650</td>\n",
              "      <td>27986.5462</td>\n",
              "      <td>1070.9042</td>\n",
              "      <td>371.4830</td>\n",
              "      <td>566.1300</td>\n",
              "      <td>747.7386</td>\n",
              "      <td>1173.3330</td>\n",
              "      <td>1189.2734</td>\n",
              "      <td>1283.0338</td>\n",
              "      <td>...</td>\n",
              "      <td>1167.0023</td>\n",
              "      <td>1150.3829</td>\n",
              "      <td>1146.3252</td>\n",
              "      <td>1050.6582</td>\n",
              "      <td>997.6744</td>\n",
              "      <td>1322.4171</td>\n",
              "      <td>1105.3542</td>\n",
              "      <td>965.8775</td>\n",
              "      <td>1934.5264</td>\n",
              "      <td>NaN</td>\n",
              "    </tr>\n",
              "    <tr>\n",
              "      <th>20191231</th>\n",
              "      <td>23</td>\n",
              "      <td>11740700</td>\n",
              "      <td>32974.4339</td>\n",
              "      <td>1364.7863</td>\n",
              "      <td>688.4728</td>\n",
              "      <td>816.0758</td>\n",
              "      <td>762.3534</td>\n",
              "      <td>957.2146</td>\n",
              "      <td>986.8085</td>\n",
              "      <td>1254.1564</td>\n",
              "      <td>...</td>\n",
              "      <td>951.7186</td>\n",
              "      <td>1220.0583</td>\n",
              "      <td>1189.0528</td>\n",
              "      <td>1298.7248</td>\n",
              "      <td>1331.3742</td>\n",
              "      <td>1598.7414</td>\n",
              "      <td>1458.6600</td>\n",
              "      <td>1275.6589</td>\n",
              "      <td>2708.7187</td>\n",
              "      <td>NaN</td>\n",
              "    </tr>\n",
              "  </tbody>\n",
              "</table>\n",
              "<p>315456 rows × 32 columns</p>\n",
              "</div>\n",
              "      <button class=\"colab-df-convert\" onclick=\"convertToInteractive('df-52cf6057-d9df-4a57-8e93-e03be0e111ca')\"\n",
              "              title=\"Convert this dataframe to an interactive table.\"\n",
              "              style=\"display:none;\">\n",
              "        \n",
              "  <svg xmlns=\"http://www.w3.org/2000/svg\" height=\"24px\"viewBox=\"0 0 24 24\"\n",
              "       width=\"24px\">\n",
              "    <path d=\"M0 0h24v24H0V0z\" fill=\"none\"/>\n",
              "    <path d=\"M18.56 5.44l.94 2.06.94-2.06 2.06-.94-2.06-.94-.94-2.06-.94 2.06-2.06.94zm-11 1L8.5 8.5l.94-2.06 2.06-.94-2.06-.94L8.5 2.5l-.94 2.06-2.06.94zm10 10l.94 2.06.94-2.06 2.06-.94-2.06-.94-.94-2.06-.94 2.06-2.06.94z\"/><path d=\"M17.41 7.96l-1.37-1.37c-.4-.4-.92-.59-1.43-.59-.52 0-1.04.2-1.43.59L10.3 9.45l-7.72 7.72c-.78.78-.78 2.05 0 2.83L4 21.41c.39.39.9.59 1.41.59.51 0 1.02-.2 1.41-.59l7.78-7.78 2.81-2.81c.8-.78.8-2.07 0-2.86zM5.41 20L4 18.59l7.72-7.72 1.47 1.35L5.41 20z\"/>\n",
              "  </svg>\n",
              "      </button>\n",
              "      \n",
              "  <style>\n",
              "    .colab-df-container {\n",
              "      display:flex;\n",
              "      flex-wrap:wrap;\n",
              "      gap: 12px;\n",
              "    }\n",
              "\n",
              "    .colab-df-convert {\n",
              "      background-color: #E8F0FE;\n",
              "      border: none;\n",
              "      border-radius: 50%;\n",
              "      cursor: pointer;\n",
              "      display: none;\n",
              "      fill: #1967D2;\n",
              "      height: 32px;\n",
              "      padding: 0 0 0 0;\n",
              "      width: 32px;\n",
              "    }\n",
              "\n",
              "    .colab-df-convert:hover {\n",
              "      background-color: #E2EBFA;\n",
              "      box-shadow: 0px 1px 2px rgba(60, 64, 67, 0.3), 0px 1px 3px 1px rgba(60, 64, 67, 0.15);\n",
              "      fill: #174EA6;\n",
              "    }\n",
              "\n",
              "    [theme=dark] .colab-df-convert {\n",
              "      background-color: #3B4455;\n",
              "      fill: #D2E3FC;\n",
              "    }\n",
              "\n",
              "    [theme=dark] .colab-df-convert:hover {\n",
              "      background-color: #434B5C;\n",
              "      box-shadow: 0px 1px 3px 1px rgba(0, 0, 0, 0.15);\n",
              "      filter: drop-shadow(0px 1px 2px rgba(0, 0, 0, 0.3));\n",
              "      fill: #FFFFFF;\n",
              "    }\n",
              "  </style>\n",
              "\n",
              "      <script>\n",
              "        const buttonEl =\n",
              "          document.querySelector('#df-52cf6057-d9df-4a57-8e93-e03be0e111ca button.colab-df-convert');\n",
              "        buttonEl.style.display =\n",
              "          google.colab.kernel.accessAllowed ? 'block' : 'none';\n",
              "\n",
              "        async function convertToInteractive(key) {\n",
              "          const element = document.querySelector('#df-52cf6057-d9df-4a57-8e93-e03be0e111ca');\n",
              "          const dataTable =\n",
              "            await google.colab.kernel.invokeFunction('convertToInteractive',\n",
              "                                                     [key], {});\n",
              "          if (!dataTable) return;\n",
              "\n",
              "          const docLinkHtml = 'Like what you see? Visit the ' +\n",
              "            '<a target=\"_blank\" href=https://colab.research.google.com/notebooks/data_table.ipynb>data table notebook</a>'\n",
              "            + ' to learn more about interactive tables.';\n",
              "          element.innerHTML = '';\n",
              "          dataTable['output_type'] = 'display_data';\n",
              "          await google.colab.output.renderOutput(dataTable, element);\n",
              "          const docLink = document.createElement('div');\n",
              "          docLink.innerHTML = docLinkHtml;\n",
              "          element.appendChild(docLink);\n",
              "        }\n",
              "      </script>\n",
              "    </div>\n",
              "  </div>\n",
              "  "
            ]
          },
          "metadata": {},
          "execution_count": 85
        }
      ]
    },
    {
      "cell_type": "markdown",
      "source": [
        "# 가장 총생활인구수가 많은 지역 찾기\n",
        "#### 결과: 11월 1일 14시 기준 역삼1동(11680640)"
      ],
      "metadata": {
        "id": "0Fh3gvKSAkdo"
      }
    },
    {
      "cell_type": "code",
      "source": [
        "### 볼록 그래프 14시 max 제일 : 학교/회사\n",
        "### 역삼1동 \n",
        "\n",
        "# 해당날짜 11/01 , 14시\n",
        "df_1101 = df[df.index == 20221101]\n",
        "df_14 = df_1101[df_1101['기준일ID'] == 14]\n",
        "\n",
        "## 총생활인구수 중 max\n",
        "max_n = df_14['행정동코드'].max()\n",
        "\n",
        "## 여기서 시간대구분 (행정동코드)가 가장 많은 총생활인구수를 갖는 행정동코드-\n",
        "df_14[df_14['행정동코드']==max_n]"
      ],
      "metadata": {
        "colab": {
          "base_uri": "https://localhost:8080/",
          "height": 348
        },
        "id": "Z4RLdYA2Aazg",
        "outputId": "976bbc5e-45a4-43df-c30d-972596870c7a"
      },
      "execution_count": 40,
      "outputs": [
        {
          "output_type": "execute_result",
          "data": {
            "text/plain": [
              "          기준일ID     시간대구분        행정동코드    총생활인구수  남자0세부터9세생활인구수  \\\n",
              "20221101     14  11680640  185561.2094  788.4206       343.3438   \n",
              "\n",
              "          남자10세부터14세생활인구수  남자15세부터19세생활인구수  남자20세부터24세생활인구수  남자25세부터29세생활인구수  \\\n",
              "20221101        2394.0598        5070.8742       12208.0174       13487.3279   \n",
              "\n",
              "          남자30세부터34세생활인구수  ...  여자25세부터29세생활인구수  여자30세부터34세생활인구수  \\\n",
              "20221101       15786.2105  ...       14403.5351        11211.412   \n",
              "\n",
              "          여자35세부터39세생활인구수  여자40세부터44세생활인구수  여자45세부터49세생활인구수  여자50세부터54세생활인구수  \\\n",
              "20221101        7695.9093        6128.7835         4148.098        3853.8256   \n",
              "\n",
              "          여자55세부터59세생활인구수  여자60세부터64세생활인구수  여자65세부터69세생활인구수  여자70세이상생활인구수  \n",
              "20221101        3106.6095        2474.0945        4197.6747           NaN  \n",
              "\n",
              "[1 rows x 32 columns]"
            ],
            "text/html": [
              "\n",
              "  <div id=\"df-3a0c7a59-8460-4629-9469-112af3ddedb0\">\n",
              "    <div class=\"colab-df-container\">\n",
              "      <div>\n",
              "<style scoped>\n",
              "    .dataframe tbody tr th:only-of-type {\n",
              "        vertical-align: middle;\n",
              "    }\n",
              "\n",
              "    .dataframe tbody tr th {\n",
              "        vertical-align: top;\n",
              "    }\n",
              "\n",
              "    .dataframe thead th {\n",
              "        text-align: right;\n",
              "    }\n",
              "</style>\n",
              "<table border=\"1\" class=\"dataframe\">\n",
              "  <thead>\n",
              "    <tr style=\"text-align: right;\">\n",
              "      <th></th>\n",
              "      <th>기준일ID</th>\n",
              "      <th>시간대구분</th>\n",
              "      <th>행정동코드</th>\n",
              "      <th>총생활인구수</th>\n",
              "      <th>남자0세부터9세생활인구수</th>\n",
              "      <th>남자10세부터14세생활인구수</th>\n",
              "      <th>남자15세부터19세생활인구수</th>\n",
              "      <th>남자20세부터24세생활인구수</th>\n",
              "      <th>남자25세부터29세생활인구수</th>\n",
              "      <th>남자30세부터34세생활인구수</th>\n",
              "      <th>...</th>\n",
              "      <th>여자25세부터29세생활인구수</th>\n",
              "      <th>여자30세부터34세생활인구수</th>\n",
              "      <th>여자35세부터39세생활인구수</th>\n",
              "      <th>여자40세부터44세생활인구수</th>\n",
              "      <th>여자45세부터49세생활인구수</th>\n",
              "      <th>여자50세부터54세생활인구수</th>\n",
              "      <th>여자55세부터59세생활인구수</th>\n",
              "      <th>여자60세부터64세생활인구수</th>\n",
              "      <th>여자65세부터69세생활인구수</th>\n",
              "      <th>여자70세이상생활인구수</th>\n",
              "    </tr>\n",
              "  </thead>\n",
              "  <tbody>\n",
              "    <tr>\n",
              "      <th>20221101</th>\n",
              "      <td>14</td>\n",
              "      <td>11680640</td>\n",
              "      <td>185561.2094</td>\n",
              "      <td>788.4206</td>\n",
              "      <td>343.3438</td>\n",
              "      <td>2394.0598</td>\n",
              "      <td>5070.8742</td>\n",
              "      <td>12208.0174</td>\n",
              "      <td>13487.3279</td>\n",
              "      <td>15786.2105</td>\n",
              "      <td>...</td>\n",
              "      <td>14403.5351</td>\n",
              "      <td>11211.412</td>\n",
              "      <td>7695.9093</td>\n",
              "      <td>6128.7835</td>\n",
              "      <td>4148.098</td>\n",
              "      <td>3853.8256</td>\n",
              "      <td>3106.6095</td>\n",
              "      <td>2474.0945</td>\n",
              "      <td>4197.6747</td>\n",
              "      <td>NaN</td>\n",
              "    </tr>\n",
              "  </tbody>\n",
              "</table>\n",
              "<p>1 rows × 32 columns</p>\n",
              "</div>\n",
              "      <button class=\"colab-df-convert\" onclick=\"convertToInteractive('df-3a0c7a59-8460-4629-9469-112af3ddedb0')\"\n",
              "              title=\"Convert this dataframe to an interactive table.\"\n",
              "              style=\"display:none;\">\n",
              "        \n",
              "  <svg xmlns=\"http://www.w3.org/2000/svg\" height=\"24px\"viewBox=\"0 0 24 24\"\n",
              "       width=\"24px\">\n",
              "    <path d=\"M0 0h24v24H0V0z\" fill=\"none\"/>\n",
              "    <path d=\"M18.56 5.44l.94 2.06.94-2.06 2.06-.94-2.06-.94-.94-2.06-.94 2.06-2.06.94zm-11 1L8.5 8.5l.94-2.06 2.06-.94-2.06-.94L8.5 2.5l-.94 2.06-2.06.94zm10 10l.94 2.06.94-2.06 2.06-.94-2.06-.94-.94-2.06-.94 2.06-2.06.94z\"/><path d=\"M17.41 7.96l-1.37-1.37c-.4-.4-.92-.59-1.43-.59-.52 0-1.04.2-1.43.59L10.3 9.45l-7.72 7.72c-.78.78-.78 2.05 0 2.83L4 21.41c.39.39.9.59 1.41.59.51 0 1.02-.2 1.41-.59l7.78-7.78 2.81-2.81c.8-.78.8-2.07 0-2.86zM5.41 20L4 18.59l7.72-7.72 1.47 1.35L5.41 20z\"/>\n",
              "  </svg>\n",
              "      </button>\n",
              "      \n",
              "  <style>\n",
              "    .colab-df-container {\n",
              "      display:flex;\n",
              "      flex-wrap:wrap;\n",
              "      gap: 12px;\n",
              "    }\n",
              "\n",
              "    .colab-df-convert {\n",
              "      background-color: #E8F0FE;\n",
              "      border: none;\n",
              "      border-radius: 50%;\n",
              "      cursor: pointer;\n",
              "      display: none;\n",
              "      fill: #1967D2;\n",
              "      height: 32px;\n",
              "      padding: 0 0 0 0;\n",
              "      width: 32px;\n",
              "    }\n",
              "\n",
              "    .colab-df-convert:hover {\n",
              "      background-color: #E2EBFA;\n",
              "      box-shadow: 0px 1px 2px rgba(60, 64, 67, 0.3), 0px 1px 3px 1px rgba(60, 64, 67, 0.15);\n",
              "      fill: #174EA6;\n",
              "    }\n",
              "\n",
              "    [theme=dark] .colab-df-convert {\n",
              "      background-color: #3B4455;\n",
              "      fill: #D2E3FC;\n",
              "    }\n",
              "\n",
              "    [theme=dark] .colab-df-convert:hover {\n",
              "      background-color: #434B5C;\n",
              "      box-shadow: 0px 1px 3px 1px rgba(0, 0, 0, 0.15);\n",
              "      filter: drop-shadow(0px 1px 2px rgba(0, 0, 0, 0.3));\n",
              "      fill: #FFFFFF;\n",
              "    }\n",
              "  </style>\n",
              "\n",
              "      <script>\n",
              "        const buttonEl =\n",
              "          document.querySelector('#df-3a0c7a59-8460-4629-9469-112af3ddedb0 button.colab-df-convert');\n",
              "        buttonEl.style.display =\n",
              "          google.colab.kernel.accessAllowed ? 'block' : 'none';\n",
              "\n",
              "        async function convertToInteractive(key) {\n",
              "          const element = document.querySelector('#df-3a0c7a59-8460-4629-9469-112af3ddedb0');\n",
              "          const dataTable =\n",
              "            await google.colab.kernel.invokeFunction('convertToInteractive',\n",
              "                                                     [key], {});\n",
              "          if (!dataTable) return;\n",
              "\n",
              "          const docLinkHtml = 'Like what you see? Visit the ' +\n",
              "            '<a target=\"_blank\" href=https://colab.research.google.com/notebooks/data_table.ipynb>data table notebook</a>'\n",
              "            + ' to learn more about interactive tables.';\n",
              "          element.innerHTML = '';\n",
              "          dataTable['output_type'] = 'display_data';\n",
              "          await google.colab.output.renderOutput(dataTable, element);\n",
              "          const docLink = document.createElement('div');\n",
              "          docLink.innerHTML = docLinkHtml;\n",
              "          element.appendChild(docLink);\n",
              "        }\n",
              "      </script>\n",
              "    </div>\n",
              "  </div>\n",
              "  "
            ]
          },
          "metadata": {},
          "execution_count": 40
        }
      ]
    },
    {
      "cell_type": "markdown",
      "source": [
        "####역삼1동의 한달간 24시간동안 총생활인구수 데이터\n",
        "######해당 코드에서 \"시간대구분\"의 행정동코드변경시 장소 커스텀 가능"
      ],
      "metadata": {
        "id": "oEIupzM_AxM5"
      }
    },
    {
      "cell_type": "code",
      "source": [
        "###명동: 11140550\t\n",
        "###역삼1동: 11680640\n",
        "\n",
        "df_s=df.loc[:, [\"행정동코드\"]]\n",
        "df_s =df_s[df['시간대구분'] == 11140550]\n",
        "df_s1= df_s[df_s.index == 20191201]\n",
        "for i in range(2,32):\n",
        "  new_df = df_s[df_s.index == 20191200+i]\n",
        "  df_s1 = pd.concat([df_s1, new_df], ignore_index = True)\n",
        "df_s1"
      ],
      "metadata": {
        "colab": {
          "base_uri": "https://localhost:8080/",
          "height": 424
        },
        "id": "bzk10EBa_s-g",
        "outputId": "e5a5da4c-f7cc-41d7-d92c-10aa961ba713"
      },
      "execution_count": 88,
      "outputs": [
        {
          "output_type": "execute_result",
          "data": {
            "text/plain": [
              "          행정동코드\n",
              "0    11501.2619\n",
              "1    10655.2525\n",
              "2     9992.1362\n",
              "3     9599.3730\n",
              "4     9638.0400\n",
              "..          ...\n",
              "739  49184.2186\n",
              "740  42450.0280\n",
              "741  36648.7170\n",
              "742  32166.3417\n",
              "743  22300.8422\n",
              "\n",
              "[744 rows x 1 columns]"
            ],
            "text/html": [
              "\n",
              "  <div id=\"df-90b8d840-c0b6-46c6-8e28-36451194cac3\">\n",
              "    <div class=\"colab-df-container\">\n",
              "      <div>\n",
              "<style scoped>\n",
              "    .dataframe tbody tr th:only-of-type {\n",
              "        vertical-align: middle;\n",
              "    }\n",
              "\n",
              "    .dataframe tbody tr th {\n",
              "        vertical-align: top;\n",
              "    }\n",
              "\n",
              "    .dataframe thead th {\n",
              "        text-align: right;\n",
              "    }\n",
              "</style>\n",
              "<table border=\"1\" class=\"dataframe\">\n",
              "  <thead>\n",
              "    <tr style=\"text-align: right;\">\n",
              "      <th></th>\n",
              "      <th>행정동코드</th>\n",
              "    </tr>\n",
              "  </thead>\n",
              "  <tbody>\n",
              "    <tr>\n",
              "      <th>0</th>\n",
              "      <td>11501.2619</td>\n",
              "    </tr>\n",
              "    <tr>\n",
              "      <th>1</th>\n",
              "      <td>10655.2525</td>\n",
              "    </tr>\n",
              "    <tr>\n",
              "      <th>2</th>\n",
              "      <td>9992.1362</td>\n",
              "    </tr>\n",
              "    <tr>\n",
              "      <th>3</th>\n",
              "      <td>9599.3730</td>\n",
              "    </tr>\n",
              "    <tr>\n",
              "      <th>4</th>\n",
              "      <td>9638.0400</td>\n",
              "    </tr>\n",
              "    <tr>\n",
              "      <th>...</th>\n",
              "      <td>...</td>\n",
              "    </tr>\n",
              "    <tr>\n",
              "      <th>739</th>\n",
              "      <td>49184.2186</td>\n",
              "    </tr>\n",
              "    <tr>\n",
              "      <th>740</th>\n",
              "      <td>42450.0280</td>\n",
              "    </tr>\n",
              "    <tr>\n",
              "      <th>741</th>\n",
              "      <td>36648.7170</td>\n",
              "    </tr>\n",
              "    <tr>\n",
              "      <th>742</th>\n",
              "      <td>32166.3417</td>\n",
              "    </tr>\n",
              "    <tr>\n",
              "      <th>743</th>\n",
              "      <td>22300.8422</td>\n",
              "    </tr>\n",
              "  </tbody>\n",
              "</table>\n",
              "<p>744 rows × 1 columns</p>\n",
              "</div>\n",
              "      <button class=\"colab-df-convert\" onclick=\"convertToInteractive('df-90b8d840-c0b6-46c6-8e28-36451194cac3')\"\n",
              "              title=\"Convert this dataframe to an interactive table.\"\n",
              "              style=\"display:none;\">\n",
              "        \n",
              "  <svg xmlns=\"http://www.w3.org/2000/svg\" height=\"24px\"viewBox=\"0 0 24 24\"\n",
              "       width=\"24px\">\n",
              "    <path d=\"M0 0h24v24H0V0z\" fill=\"none\"/>\n",
              "    <path d=\"M18.56 5.44l.94 2.06.94-2.06 2.06-.94-2.06-.94-.94-2.06-.94 2.06-2.06.94zm-11 1L8.5 8.5l.94-2.06 2.06-.94-2.06-.94L8.5 2.5l-.94 2.06-2.06.94zm10 10l.94 2.06.94-2.06 2.06-.94-2.06-.94-.94-2.06-.94 2.06-2.06.94z\"/><path d=\"M17.41 7.96l-1.37-1.37c-.4-.4-.92-.59-1.43-.59-.52 0-1.04.2-1.43.59L10.3 9.45l-7.72 7.72c-.78.78-.78 2.05 0 2.83L4 21.41c.39.39.9.59 1.41.59.51 0 1.02-.2 1.41-.59l7.78-7.78 2.81-2.81c.8-.78.8-2.07 0-2.86zM5.41 20L4 18.59l7.72-7.72 1.47 1.35L5.41 20z\"/>\n",
              "  </svg>\n",
              "      </button>\n",
              "      \n",
              "  <style>\n",
              "    .colab-df-container {\n",
              "      display:flex;\n",
              "      flex-wrap:wrap;\n",
              "      gap: 12px;\n",
              "    }\n",
              "\n",
              "    .colab-df-convert {\n",
              "      background-color: #E8F0FE;\n",
              "      border: none;\n",
              "      border-radius: 50%;\n",
              "      cursor: pointer;\n",
              "      display: none;\n",
              "      fill: #1967D2;\n",
              "      height: 32px;\n",
              "      padding: 0 0 0 0;\n",
              "      width: 32px;\n",
              "    }\n",
              "\n",
              "    .colab-df-convert:hover {\n",
              "      background-color: #E2EBFA;\n",
              "      box-shadow: 0px 1px 2px rgba(60, 64, 67, 0.3), 0px 1px 3px 1px rgba(60, 64, 67, 0.15);\n",
              "      fill: #174EA6;\n",
              "    }\n",
              "\n",
              "    [theme=dark] .colab-df-convert {\n",
              "      background-color: #3B4455;\n",
              "      fill: #D2E3FC;\n",
              "    }\n",
              "\n",
              "    [theme=dark] .colab-df-convert:hover {\n",
              "      background-color: #434B5C;\n",
              "      box-shadow: 0px 1px 3px 1px rgba(0, 0, 0, 0.15);\n",
              "      filter: drop-shadow(0px 1px 2px rgba(0, 0, 0, 0.3));\n",
              "      fill: #FFFFFF;\n",
              "    }\n",
              "  </style>\n",
              "\n",
              "      <script>\n",
              "        const buttonEl =\n",
              "          document.querySelector('#df-90b8d840-c0b6-46c6-8e28-36451194cac3 button.colab-df-convert');\n",
              "        buttonEl.style.display =\n",
              "          google.colab.kernel.accessAllowed ? 'block' : 'none';\n",
              "\n",
              "        async function convertToInteractive(key) {\n",
              "          const element = document.querySelector('#df-90b8d840-c0b6-46c6-8e28-36451194cac3');\n",
              "          const dataTable =\n",
              "            await google.colab.kernel.invokeFunction('convertToInteractive',\n",
              "                                                     [key], {});\n",
              "          if (!dataTable) return;\n",
              "\n",
              "          const docLinkHtml = 'Like what you see? Visit the ' +\n",
              "            '<a target=\"_blank\" href=https://colab.research.google.com/notebooks/data_table.ipynb>data table notebook</a>'\n",
              "            + ' to learn more about interactive tables.';\n",
              "          element.innerHTML = '';\n",
              "          dataTable['output_type'] = 'display_data';\n",
              "          await google.colab.output.renderOutput(dataTable, element);\n",
              "          const docLink = document.createElement('div');\n",
              "          docLink.innerHTML = docLinkHtml;\n",
              "          element.appendChild(docLink);\n",
              "        }\n",
              "      </script>\n",
              "    </div>\n",
              "  </div>\n",
              "  "
            ]
          },
          "metadata": {},
          "execution_count": 88
        }
      ]
    },
    {
      "cell_type": "markdown",
      "source": [
        "#### 특정 행정동의 시간별 총생활인구수 그래프로 보기\n"
      ],
      "metadata": {
        "id": "u_oTf-0pCVvS"
      }
    },
    {
      "cell_type": "code",
      "source": [
        "df_s1['행정동코드'][12]"
      ],
      "metadata": {
        "colab": {
          "base_uri": "https://localhost:8080/"
        },
        "id": "81ufZhetEZ0L",
        "outputId": "6beb9ca8-2b3f-4140-c4e3-188d66c64521"
      },
      "execution_count": 89,
      "outputs": [
        {
          "output_type": "execute_result",
          "data": {
            "text/plain": [
              "40857.5284"
            ]
          },
          "metadata": {},
          "execution_count": 89
        }
      ]
    },
    {
      "cell_type": "code",
      "source": [
        "## 특정 행정동의 시간별 총생활인구수 그래프로 보기\n",
        "## 해당코드에서는 역삼1동\n",
        "## 위 코드에서 df_s1데이터의 \"시간대구분\"의 행정동코드를 수정시 \n",
        "# population : 시간별 총생활인구수\n",
        "population = df_s1['행정동코드'][0:24]\n",
        "population.index = [0,1,2,3,4,5,6,7,8,9,10,11,12,13,14,15,16,17,18,19,20,21,22,23]\n",
        "plt.plot(population)"
      ],
      "metadata": {
        "colab": {
          "base_uri": "https://localhost:8080/",
          "height": 287
        },
        "id": "0lCOly-HAtv6",
        "outputId": "09940d7a-f86c-4657-99d9-315e6b4b59c8"
      },
      "execution_count": 90,
      "outputs": [
        {
          "output_type": "execute_result",
          "data": {
            "text/plain": [
              "[<matplotlib.lines.Line2D at 0x7fd895d3ae80>]"
            ]
          },
          "metadata": {},
          "execution_count": 90
        },
        {
          "output_type": "display_data",
          "data": {
            "text/plain": [
              "<Figure size 432x288 with 1 Axes>"
            ],
            "image/png": "[encoded data removed]"
          },
          "metadata": {
            "needs_background": "light"
          }
        }
      ]
    },
    {
      "cell_type": "markdown",
      "source": [
        "##모델에 입력시작"
      ],
      "metadata": {
        "id": "r8H0c6nWEj-U"
      }
    },
    {
      "cell_type": "code",
      "source": [
        "df= df_s1\n",
        "df"
      ],
      "metadata": {
        "colab": {
          "base_uri": "https://localhost:8080/",
          "height": 424
        },
        "id": "sXQ7VxUhDiki",
        "outputId": "d241b210-be0a-41d5-fdf0-7cfb7727a2d4"
      },
      "execution_count": 91,
      "outputs": [
        {
          "output_type": "execute_result",
          "data": {
            "text/plain": [
              "          행정동코드\n",
              "0    11501.2619\n",
              "1    10655.2525\n",
              "2     9992.1362\n",
              "3     9599.3730\n",
              "4     9638.0400\n",
              "..          ...\n",
              "739  49184.2186\n",
              "740  42450.0280\n",
              "741  36648.7170\n",
              "742  32166.3417\n",
              "743  22300.8422\n",
              "\n",
              "[744 rows x 1 columns]"
            ],
            "text/html": [
              "\n",
              "  <div id=\"df-942cfd71-4f41-4b42-81d4-7ca8206d6751\">\n",
              "    <div class=\"colab-df-container\">\n",
              "      <div>\n",
              "<style scoped>\n",
              "    .dataframe tbody tr th:only-of-type {\n",
              "        vertical-align: middle;\n",
              "    }\n",
              "\n",
              "    .dataframe tbody tr th {\n",
              "        vertical-align: top;\n",
              "    }\n",
              "\n",
              "    .dataframe thead th {\n",
              "        text-align: right;\n",
              "    }\n",
              "</style>\n",
              "<table border=\"1\" class=\"dataframe\">\n",
              "  <thead>\n",
              "    <tr style=\"text-align: right;\">\n",
              "      <th></th>\n",
              "      <th>행정동코드</th>\n",
              "    </tr>\n",
              "  </thead>\n",
              "  <tbody>\n",
              "    <tr>\n",
              "      <th>0</th>\n",
              "      <td>11501.2619</td>\n",
              "    </tr>\n",
              "    <tr>\n",
              "      <th>1</th>\n",
              "      <td>10655.2525</td>\n",
              "    </tr>\n",
              "    <tr>\n",
              "      <th>2</th>\n",
              "      <td>9992.1362</td>\n",
              "    </tr>\n",
              "    <tr>\n",
              "      <th>3</th>\n",
              "      <td>9599.3730</td>\n",
              "    </tr>\n",
              "    <tr>\n",
              "      <th>4</th>\n",
              "      <td>9638.0400</td>\n",
              "    </tr>\n",
              "    <tr>\n",
              "      <th>...</th>\n",
              "      <td>...</td>\n",
              "    </tr>\n",
              "    <tr>\n",
              "      <th>739</th>\n",
              "      <td>49184.2186</td>\n",
              "    </tr>\n",
              "    <tr>\n",
              "      <th>740</th>\n",
              "      <td>42450.0280</td>\n",
              "    </tr>\n",
              "    <tr>\n",
              "      <th>741</th>\n",
              "      <td>36648.7170</td>\n",
              "    </tr>\n",
              "    <tr>\n",
              "      <th>742</th>\n",
              "      <td>32166.3417</td>\n",
              "    </tr>\n",
              "    <tr>\n",
              "      <th>743</th>\n",
              "      <td>22300.8422</td>\n",
              "    </tr>\n",
              "  </tbody>\n",
              "</table>\n",
              "<p>744 rows × 1 columns</p>\n",
              "</div>\n",
              "      <button class=\"colab-df-convert\" onclick=\"convertToInteractive('df-942cfd71-4f41-4b42-81d4-7ca8206d6751')\"\n",
              "              title=\"Convert this dataframe to an interactive table.\"\n",
              "              style=\"display:none;\">\n",
              "        \n",
              "  <svg xmlns=\"http://www.w3.org/2000/svg\" height=\"24px\"viewBox=\"0 0 24 24\"\n",
              "       width=\"24px\">\n",
              "    <path d=\"M0 0h24v24H0V0z\" fill=\"none\"/>\n",
              "    <path d=\"M18.56 5.44l.94 2.06.94-2.06 2.06-.94-2.06-.94-.94-2.06-.94 2.06-2.06.94zm-11 1L8.5 8.5l.94-2.06 2.06-.94-2.06-.94L8.5 2.5l-.94 2.06-2.06.94zm10 10l.94 2.06.94-2.06 2.06-.94-2.06-.94-.94-2.06-.94 2.06-2.06.94z\"/><path d=\"M17.41 7.96l-1.37-1.37c-.4-.4-.92-.59-1.43-.59-.52 0-1.04.2-1.43.59L10.3 9.45l-7.72 7.72c-.78.78-.78 2.05 0 2.83L4 21.41c.39.39.9.59 1.41.59.51 0 1.02-.2 1.41-.59l7.78-7.78 2.81-2.81c.8-.78.8-2.07 0-2.86zM5.41 20L4 18.59l7.72-7.72 1.47 1.35L5.41 20z\"/>\n",
              "  </svg>\n",
              "      </button>\n",
              "      \n",
              "  <style>\n",
              "    .colab-df-container {\n",
              "      display:flex;\n",
              "      flex-wrap:wrap;\n",
              "      gap: 12px;\n",
              "    }\n",
              "\n",
              "    .colab-df-convert {\n",
              "      background-color: #E8F0FE;\n",
              "      border: none;\n",
              "      border-radius: 50%;\n",
              "      cursor: pointer;\n",
              "      display: none;\n",
              "      fill: #1967D2;\n",
              "      height: 32px;\n",
              "      padding: 0 0 0 0;\n",
              "      width: 32px;\n",
              "    }\n",
              "\n",
              "    .colab-df-convert:hover {\n",
              "      background-color: #E2EBFA;\n",
              "      box-shadow: 0px 1px 2px rgba(60, 64, 67, 0.3), 0px 1px 3px 1px rgba(60, 64, 67, 0.15);\n",
              "      fill: #174EA6;\n",
              "    }\n",
              "\n",
              "    [theme=dark] .colab-df-convert {\n",
              "      background-color: #3B4455;\n",
              "      fill: #D2E3FC;\n",
              "    }\n",
              "\n",
              "    [theme=dark] .colab-df-convert:hover {\n",
              "      background-color: #434B5C;\n",
              "      box-shadow: 0px 1px 3px 1px rgba(0, 0, 0, 0.15);\n",
              "      filter: drop-shadow(0px 1px 2px rgba(0, 0, 0, 0.3));\n",
              "      fill: #FFFFFF;\n",
              "    }\n",
              "  </style>\n",
              "\n",
              "      <script>\n",
              "        const buttonEl =\n",
              "          document.querySelector('#df-942cfd71-4f41-4b42-81d4-7ca8206d6751 button.colab-df-convert');\n",
              "        buttonEl.style.display =\n",
              "          google.colab.kernel.accessAllowed ? 'block' : 'none';\n",
              "\n",
              "        async function convertToInteractive(key) {\n",
              "          const element = document.querySelector('#df-942cfd71-4f41-4b42-81d4-7ca8206d6751');\n",
              "          const dataTable =\n",
              "            await google.colab.kernel.invokeFunction('convertToInteractive',\n",
              "                                                     [key], {});\n",
              "          if (!dataTable) return;\n",
              "\n",
              "          const docLinkHtml = 'Like what you see? Visit the ' +\n",
              "            '<a target=\"_blank\" href=https://colab.research.google.com/notebooks/data_table.ipynb>data table notebook</a>'\n",
              "            + ' to learn more about interactive tables.';\n",
              "          element.innerHTML = '';\n",
              "          dataTable['output_type'] = 'display_data';\n",
              "          await google.colab.output.renderOutput(dataTable, element);\n",
              "          const docLink = document.createElement('div');\n",
              "          docLink.innerHTML = docLinkHtml;\n",
              "          element.appendChild(docLink);\n",
              "        }\n",
              "      </script>\n",
              "    </div>\n",
              "  </div>\n",
              "  "
            ]
          },
          "metadata": {},
          "execution_count": 91
        }
      ]
    },
    {
      "cell_type": "markdown",
      "source": [
        "###단일특성 데이터 정제함수"
      ],
      "metadata": {
        "id": "gdUdk-9lEqMz"
      }
    },
    {
      "cell_type": "code",
      "source": [
        "def univeriate_data(dataset, start_index, end_index, history_size, target_size):\n",
        "  data = []\n",
        "  labels = []\n",
        "\n",
        "  start_index = start_index + history_size\n",
        "  if end_index is None:\n",
        "    end_index = len(dataset) - target_size\n",
        "\n",
        "  for i in range(start_index, end_index):\n",
        "    indices = range(i-history_size, i)\n",
        "    data.append(np.reshape(dataset[indices], (history_size, 1)))\n",
        "    labels.append(dataset[i+target_size])\n",
        "  return np.array(data), np.array(labels)"
      ],
      "metadata": {
        "id": "Znt5tyYzEnD3"
      },
      "execution_count": 92,
      "outputs": []
    },
    {
      "cell_type": "code",
      "source": [
        "#### 학습값 지정 및 랜덤시드 선택\n",
        "TRAIN_SPLIT = 696\n",
        "tf.random.set_seed(13)"
      ],
      "metadata": {
        "id": "TcucUQa-Ethv"
      },
      "execution_count": 109,
      "outputs": []
    },
    {
      "cell_type": "code",
      "source": [
        "###총인구수 데이터 저장\n",
        "uni_data = df['행정동코드']\n",
        "uni_data.index = df['행정동코드']\n",
        "uni_data.head()"
      ],
      "metadata": {
        "colab": {
          "base_uri": "https://localhost:8080/"
        },
        "id": "cbLBRbIzE0Qb",
        "outputId": "ee4f21e1-374f-4090-d82a-37084cbb8806"
      },
      "execution_count": 110,
      "outputs": [
        {
          "output_type": "execute_result",
          "data": {
            "text/plain": [
              "행정동코드\n",
              "11501.2619    11501.2619\n",
              "10655.2525    10655.2525\n",
              "9992.1362      9992.1362\n",
              "9599.3730      9599.3730\n",
              "9638.0400      9638.0400\n",
              "Name: 행정동코드, dtype: float64"
            ]
          },
          "metadata": {},
          "execution_count": 110
        }
      ]
    },
    {
      "cell_type": "code",
      "source": [
        "# 데이터 정규화\n",
        "uni_data = uni_data.values"
      ],
      "metadata": {
        "id": "UEsc9eMlE7wA"
      },
      "execution_count": 111,
      "outputs": []
    },
    {
      "cell_type": "code",
      "source": [
        "uni_train_mean = uni_data[:TRAIN_SPLIT].mean()\n",
        "uni_train_std = uni_data[:TRAIN_SPLIT].std()\n",
        "uni_data = (uni_data-uni_train_mean)/uni_train_std"
      ],
      "metadata": {
        "id": "7Olp-MHLE79L"
      },
      "execution_count": 112,
      "outputs": []
    },
    {
      "cell_type": "code",
      "source": [
        "univariate_past_history = 24\n",
        "univariate_future_target = 0\n",
        "\n",
        "x_train_uni, y_train_uni = univeriate_data(uni_data, 0, TRAIN_SPLIT, \n",
        "                                           univariate_past_history, univariate_future_target)\n",
        "\n",
        "x_val_uni, y_val_uni = univeriate_data(uni_data, TRAIN_SPLIT, None, \n",
        "                                       univariate_past_history, univariate_future_target)"
      ],
      "metadata": {
        "id": "dEl7YwS8HAdx"
      },
      "execution_count": 113,
      "outputs": []
    },
    {
      "cell_type": "code",
      "source": [
        "print('Single window of past history')\n",
        "print(x_train_uni[0])\n",
        "print('\\n target temperature to predict')\n",
        "print(y_train_uni[0])"
      ],
      "metadata": {
        "colab": {
          "base_uri": "https://localhost:8080/"
        },
        "id": "ikjeDTOUHBHI",
        "outputId": "58483ebc-8d81-49f1-bbda-5196855d2b87"
      },
      "execution_count": 114,
      "outputs": [
        {
          "output_type": "stream",
          "name": "stdout",
          "text": [
            "Single window of past history\n",
            "[[-1.02303952]\n",
            " [-1.04873064]\n",
            " [-1.06886777]\n",
            " [-1.08079498]\n",
            " [-1.07962076]\n",
            " [-1.06887624]\n",
            " [-1.01998584]\n",
            " [-0.96754756]\n",
            " [-0.84943677]\n",
            " [-0.65588073]\n",
            " [-0.45734354]\n",
            " [-0.27987172]\n",
            " [-0.13156547]\n",
            " [-0.05797228]\n",
            " [-0.08156768]\n",
            " [-0.11570196]\n",
            " [-0.18188327]\n",
            " [-0.26595718]\n",
            " [-0.40008588]\n",
            " [-0.54016375]\n",
            " [-0.66363117]\n",
            " [-0.82323074]\n",
            " [-0.95677977]\n",
            " [-1.11645785]]\n",
            "\n",
            " target temperature to predict\n",
            "-1.13291802119291\n"
          ]
        }
      ]
    },
    {
      "cell_type": "code",
      "source": [
        "def create_time_steps(length):\n",
        "  return list(range(-length, 0))"
      ],
      "metadata": {
        "id": "Mg8khuPtHCHj"
      },
      "execution_count": 115,
      "outputs": []
    },
    {
      "cell_type": "code",
      "source": [
        "def baseline(history):\n",
        "  return np.mean(history)"
      ],
      "metadata": {
        "id": "8olzN5huHDYv"
      },
      "execution_count": 116,
      "outputs": []
    },
    {
      "cell_type": "code",
      "source": [
        "def show_plot(plot_data, delta, title):\n",
        "  labels = ['History', 'True Future', 'Model Prediction']\n",
        "  marker = ['.-', 'rx', 'go']\n",
        "  time_steps = create_time_steps(plot_data[0].shape[0])\n",
        "  if delta:\n",
        "    future = delta\n",
        "  else:\n",
        "    future = 0\n",
        "\n",
        "  plt.title(title)\n",
        "  for i, x in enumerate(plot_data):\n",
        "    if i :\n",
        "      plt.plot(future, plot_data[i], marker[i], markersize=10, label=labels[i])\n",
        "    else :\n",
        "      plt.plot(time_steps, plot_data[i].flatten(), marker[i], label=labels[i])\n",
        "    plt.legend()\n",
        "    plt.axis('auto')\n",
        "    plt.xlim([time_steps[0], (future+5)*2])\n",
        "    plt.xlabel('Time-Step')\n",
        "    return plt"
      ],
      "metadata": {
        "id": "B7mehA-VIDNQ"
      },
      "execution_count": 117,
      "outputs": []
    },
    {
      "cell_type": "markdown",
      "source": [
        "###BASELINE 모델 그래프"
      ],
      "metadata": {
        "id": "9DHGmUq8Pnt_"
      }
    },
    {
      "cell_type": "code",
      "source": [
        "#plot data값 지정\n",
        "b=[x_train_uni[0], y_train_uni[0], baseline(x_train_uni[0])]\n",
        "b"
      ],
      "metadata": {
        "colab": {
          "base_uri": "https://localhost:8080/"
        },
        "id": "R_v1sB3tVBfv",
        "outputId": "892784a9-8919-4015-ca48-1403a5633cf8"
      },
      "execution_count": 118,
      "outputs": [
        {
          "output_type": "execute_result",
          "data": {
            "text/plain": [
              "[array([[-1.02303952],\n",
              "        [-1.04873064],\n",
              "        [-1.06886777],\n",
              "        [-1.08079498],\n",
              "        [-1.07962076],\n",
              "        [-1.06887624],\n",
              "        [-1.01998584],\n",
              "        [-0.96754756],\n",
              "        [-0.84943677],\n",
              "        [-0.65588073],\n",
              "        [-0.45734354],\n",
              "        [-0.27987172],\n",
              "        [-0.13156547],\n",
              "        [-0.05797228],\n",
              "        [-0.08156768],\n",
              "        [-0.11570196],\n",
              "        [-0.18188327],\n",
              "        [-0.26595718],\n",
              "        [-0.40008588],\n",
              "        [-0.54016375],\n",
              "        [-0.66363117],\n",
              "        [-0.82323074],\n",
              "        [-0.95677977],\n",
              "        [-1.11645785]]), -1.13291802119291, -0.6639580449008539]"
            ]
          },
          "metadata": {},
          "execution_count": 118
        }
      ]
    },
    {
      "cell_type": "code",
      "source": [
        "#def show_plot(plot_data, delta, title):\n",
        "#([x_train_uni[0], y_train_uni[0], baseline(x_train_uni[0])]\n",
        "labels = ['History', 'True Future', 'Model Prediction']\n",
        "marker = ['.-', 'rx', 'go']\n",
        "time_steps = create_time_steps(b[0].shape[0])\n",
        "arr=[]\n",
        "\n",
        "True_F = b[1]\n",
        "Model_P = b[2]\n",
        "\n",
        "if 0:\n",
        "  future = 0\n",
        "else:\n",
        "  future = 0\n",
        "\n",
        "plt.title(\"BASELINE\")\n",
        "for i, x in enumerate(b):\n",
        "  if i == 1 :\n",
        "    b[i]=uni_data[24]\n",
        "    plt.plot(future, b[i], marker[i], markersize=10, label=labels[i])\n",
        "    print(b[1])\n",
        "  elif i == 2 :\n",
        "    b[i]=(Model_P * b[1]) / True_F\n",
        "    plt.plot(future, b[i], marker[i], markersize=10, label=labels[i])\n",
        "    print(b[2])\n",
        "  else :\n",
        "    for j in range(TRAIN_SPLIT,TRAIN_SPLIT+24):\n",
        "      arr.append(uni_data[j])\n",
        "    for k in range(0,24):\n",
        "      b[0][k]=arr[k]\n",
        "    plt.plot(time_steps, b[i].flatten(), marker[i], label=labels[i])\n",
        "  plt.legend()\n",
        "  plt.axis('auto')\n",
        "  plt.xlim([time_steps[0], (future+2)*2])\n",
        "  TIME=time_steps\n",
        "  values = ['0','1','2','3','4','5','6','7','8','9','10','11','12','13','14','15','16','17','18','19','20','21','22','23','24'] \n",
        "  plt.xticks(TIME,values,fontsize=8)\n",
        "  plt.gca().spines['top'].set_visible(False)\n",
        "  plt.gca().spines['right'].set_visible(False)\n",
        "  plt.ylabel('population')\n",
        "  plt.xlabel('Time-Step')"
      ],
      "metadata": {
        "colab": {
          "base_uri": "https://localhost:8080/",
          "height": 331
        },
        "id": "-suDsdVgHMaC",
        "outputId": "4b021be2-380a-48cb-a701-66b956809bb5"
      },
      "execution_count": 119,
      "outputs": [
        {
          "output_type": "stream",
          "name": "stdout",
          "text": [
            "-1.13291802119291\n",
            "-0.6639580449008539\n"
          ]
        },
        {
          "output_type": "display_data",
          "data": {
            "text/plain": [
              "<Figure size 432x288 with 1 Axes>"
            ],
            "image/png": "[encoded data removed]"
          },
          "metadata": {
            "needs_background": "light"
          }
        }
      ]
    },
    {
      "cell_type": "markdown",
      "source": [
        "#LSTM 모델제작"
      ],
      "metadata": {
        "id": "uwYinvN1HOfy"
      }
    },
    {
      "cell_type": "code",
      "source": [
        "train_univariate=tf.data.Dataset.from_tensor_slices((x_train_uni, y_train_uni))"
      ],
      "metadata": {
        "id": "nVUnSvWCHQ8s"
      },
      "execution_count": 120,
      "outputs": []
    },
    {
      "cell_type": "code",
      "source": [
        "BATCH_SIZE = 256\n",
        "BUFFER_SIZE=10000\n",
        "\n",
        "train_univariate = tf.data.Dataset.from_tensor_slices((x_train_uni, y_train_uni))\n",
        "train_univariate = train_univariate.cache().shuffle(BUFFER_SIZE).batch(BATCH_SIZE).repeat()\n",
        "\n",
        "val_univariate = tf.data.Dataset.from_tensor_slices((x_val_uni, y_val_uni))\n",
        "val_univariate = val_univariate.batch(BATCH_SIZE).repeat()"
      ],
      "metadata": {
        "id": "FK_IL9MYHXn9"
      },
      "execution_count": 121,
      "outputs": []
    },
    {
      "cell_type": "code",
      "source": [
        "simple_lstm_model = tf.keras.models.Sequential([\n",
        "    tf.keras.layers.LSTM(9, input_shape = x_train_uni.shape[-2:]), tf.keras.layers.Dense(1)\n",
        "])\n",
        "simple_lstm_model.summary()\n",
        "simple_lstm_model.compile(optimizer='adam', loss='mae')"
      ],
      "metadata": {
        "id": "uFRUG3JpHx8c",
        "colab": {
          "base_uri": "https://localhost:8080/"
        },
        "outputId": "aed4a8df-3e72-4213-955b-ca0aced20f4f"
      },
      "execution_count": 122,
      "outputs": [
        {
          "output_type": "stream",
          "name": "stdout",
          "text": [
            "Model: \"sequential_4\"\n",
            "_________________________________________________________________\n",
            " Layer (type)                Output Shape              Param #   \n",
            "=================================================================\n",
            " lstm_4 (LSTM)               (None, 9)                 396       \n",
            "                                                                 \n",
            " dense_4 (Dense)             (None, 1)                 10        \n",
            "                                                                 \n",
            "=================================================================\n",
            "Total params: 406\n",
            "Trainable params: 406\n",
            "Non-trainable params: 0\n",
            "_________________________________________________________________\n"
          ]
        }
      ]
    },
    {
      "cell_type": "code",
      "source": [
        "for x, y in val_univariate.take(1):\n",
        "  print(simple_lstm_model.predict(x).shape)"
      ],
      "metadata": {
        "colab": {
          "base_uri": "https://localhost:8080/"
        },
        "id": "_OH4a_lEHzGh",
        "outputId": "d4a895c0-bae8-48ae-81ef-ba02ad4adb7e"
      },
      "execution_count": 123,
      "outputs": [
        {
          "output_type": "stream",
          "name": "stdout",
          "text": [
            "1/1 [==============================] - 1s 623ms/step\n",
            "(24, 1)\n"
          ]
        }
      ]
    },
    {
      "cell_type": "code",
      "source": [
        "EVALUATION_INTERVAL = 200\n",
        "EPOCHS = 10\n",
        "\n",
        "f1=simple_lstm_model.fit(train_univariate,\n",
        "                      epochs=EPOCHS,\n",
        "                      steps_per_epoch = EVALUATION_INTERVAL,\n",
        "                      validation_data = val_univariate,\n",
        "                      validation_steps = 50)"
      ],
      "metadata": {
        "colab": {
          "base_uri": "https://localhost:8080/"
        },
        "id": "bpoWJ2mVH0l4",
        "outputId": "fb2b4e9e-6210-4be3-9fb6-e798c6e74488"
      },
      "execution_count": 124,
      "outputs": [
        {
          "output_type": "stream",
          "name": "stdout",
          "text": [
            "Epoch 1/10\n",
            "200/200 [==============================] - 3s 7ms/step - loss: 0.5473 - val_loss: 0.1697\n",
            "Epoch 2/10\n",
            "200/200 [==============================] - 1s 5ms/step - loss: 0.1090 - val_loss: 0.0960\n",
            "Epoch 3/10\n",
            "200/200 [==============================] - 1s 5ms/step - loss: 0.0808 - val_loss: 0.0880\n",
            "Epoch 4/10\n",
            "200/200 [==============================] - 1s 5ms/step - loss: 0.0705 - val_loss: 0.0843\n",
            "Epoch 5/10\n",
            "200/200 [==============================] - 1s 5ms/step - loss: 0.0647 - val_loss: 0.0814\n",
            "Epoch 6/10\n",
            "200/200 [==============================] - 1s 5ms/step - loss: 0.0613 - val_loss: 0.0846\n",
            "Epoch 7/10\n",
            "200/200 [==============================] - 1s 5ms/step - loss: 0.0583 - val_loss: 0.0803\n",
            "Epoch 8/10\n",
            "200/200 [==============================] - 1s 5ms/step - loss: 0.0558 - val_loss: 0.0846\n",
            "Epoch 9/10\n",
            "200/200 [==============================] - 1s 5ms/step - loss: 0.0537 - val_loss: 0.0824\n",
            "Epoch 10/10\n",
            "200/200 [==============================] - 1s 5ms/step - loss: 0.0518 - val_loss: 0.0821\n"
          ]
        }
      ]
    },
    {
      "cell_type": "code",
      "source": [
        "#결과를 그래프로 표현하는 부분입니다.\n",
        "y_vloss = f1.history['val_loss']\n",
        "y_loss = f1.history['loss']\n",
        "\n",
        "x_len = np.arange(len(y_loss))  \n",
        "\n",
        "plt.figure(figsize=(8, 5))\n",
        "plt.plot(x_len, y_vloss, marker='.', c=\"green\", label='Testset_loss')\n",
        "plt.plot(x_len, y_loss, marker='.', c=\"blue\", label='Trainset_loss')\n",
        "\n",
        "plt.legend(loc='right') \n",
        "plt.grid()\n",
        "plt.xlabel('epoch')\n",
        "plt.ylabel('loss')\n",
        "plt.show()"
      ],
      "metadata": {
        "colab": {
          "base_uri": "https://localhost:8080/",
          "height": 334
        },
        "id": "l2II_dWPH1xl",
        "outputId": "f19b4791-3361-454b-ef36-f423556d1a51"
      },
      "execution_count": 125,
      "outputs": [
        {
          "output_type": "display_data",
          "data": {
            "text/plain": [
              "<Figure size 576x360 with 1 Axes>"
            ],
            "image/png": "[encoded data removed]"
          },
          "metadata": {
            "needs_background": "light"
          }
        }
      ]
    },
    {
      "cell_type": "code",
      "source": [
        "for x, y in val_univariate.take(3):\n",
        "  plot = show_plot([x[0].numpy(), y[0].numpy(), simple_lstm_model.predict(x)[0]], 0, 'Simple LSTM model')\n",
        "  plot.show()"
      ],
      "metadata": {
        "colab": {
          "base_uri": "https://localhost:8080/",
          "height": 906
        },
        "id": "kFDZ2uleH3IQ",
        "outputId": "6d925b20-61e0-4b0b-83e7-365f63244690"
      },
      "execution_count": 126,
      "outputs": [
        {
          "output_type": "stream",
          "name": "stdout",
          "text": [
            "1/1 [==============================] - 0s 16ms/step\n"
          ]
        },
        {
          "output_type": "display_data",
          "data": {
            "text/plain": [
              "<Figure size 432x288 with 1 Axes>"
            ],
            "image/png": "[encoded data removed]"
          },
          "metadata": {
            "needs_background": "light"
          }
        },
        {
          "output_type": "stream",
          "name": "stdout",
          "text": [
            "1/1 [==============================] - 0s 17ms/step\n"
          ]
        },
        {
          "output_type": "display_data",
          "data": {
            "text/plain": [
              "<Figure size 432x288 with 1 Axes>"
            ],
            "image/png": "[encoded data removed]"
          },
          "metadata": {
            "needs_background": "light"
          }
        },
        {
          "output_type": "stream",
          "name": "stdout",
          "text": [
            "1/1 [==============================] - 0s 17ms/step\n"
          ]
        },
        {
          "output_type": "display_data",
          "data": {
            "text/plain": [
              "<Figure size 432x288 with 1 Axes>"
            ],
            "image/png": "[encoded data removed]"
          },
          "metadata": {
            "needs_background": "light"
          }
        }
      ]
    },
    {
      "cell_type": "code",
      "source": [
        "a = simple_lstm_model.predict(x)\n",
        "a = [x[0].numpy(), y[0].numpy(), a[0]]\n",
        "a"
      ],
      "metadata": {
        "colab": {
          "base_uri": "https://localhost:8080/"
        },
        "id": "tPHy1EQEH8Lp",
        "outputId": "17ac2bd7-c5f8-49e5-d235-dadacbc74eb0"
      },
      "execution_count": 127,
      "outputs": [
        {
          "output_type": "stream",
          "name": "stdout",
          "text": [
            "1/1 [==============================] - 0s 16ms/step\n"
          ]
        },
        {
          "output_type": "execute_result",
          "data": {
            "text/plain": [
              "[array([[-1.10903319],\n",
              "        [-1.12631405],\n",
              "        [-1.13213283],\n",
              "        [-1.13507936],\n",
              "        [-1.11305933],\n",
              "        [-1.07152313],\n",
              "        [-0.94051988],\n",
              "        [-0.53249717],\n",
              "        [ 0.29192674],\n",
              "        [ 0.72799379],\n",
              "        [ 0.94170088],\n",
              "        [ 1.14954841],\n",
              "        [ 1.34694357],\n",
              "        [ 1.42659816],\n",
              "        [ 1.41328715],\n",
              "        [ 1.37589369],\n",
              "        [ 1.32364282],\n",
              "        [ 1.18932442],\n",
              "        [ 0.74757643],\n",
              "        [ 0.39504801],\n",
              "        [ 0.07808273],\n",
              "        [-0.30523194],\n",
              "        [-0.65765474],\n",
              "        [-0.96997834]]),\n",
              " -1.0361066556285108,\n",
              " array([-1.0296959], dtype=float32)]"
            ]
          },
          "metadata": {},
          "execution_count": 127
        }
      ]
    },
    {
      "cell_type": "code",
      "source": [
        "uni_data = df['행정동코드']\n",
        "uni_data.index = df['행정동코드']\n",
        "uni_data.head()"
      ],
      "metadata": {
        "colab": {
          "base_uri": "https://localhost:8080/"
        },
        "id": "quXE60ZGIYDW",
        "outputId": "df93cba8-435a-40dc-82c4-954d4ca41a4f"
      },
      "execution_count": 128,
      "outputs": [
        {
          "output_type": "execute_result",
          "data": {
            "text/plain": [
              "행정동코드\n",
              "11501.2619    11501.2619\n",
              "10655.2525    10655.2525\n",
              "9992.1362      9992.1362\n",
              "9599.3730      9599.3730\n",
              "9638.0400      9638.0400\n",
              "Name: 행정동코드, dtype: float64"
            ]
          },
          "metadata": {},
          "execution_count": 128
        }
      ]
    },
    {
      "cell_type": "code",
      "source": [
        "uni_data = uni_data.values\n"
      ],
      "metadata": {
        "id": "jtecUPeNg7v3"
      },
      "execution_count": 129,
      "outputs": []
    },
    {
      "cell_type": "code",
      "source": [
        "#2022/12/25일 24시간 데이터\n",
        "uni_data[697] = 13000\n",
        "uni_data[698] = 7250\n",
        "uni_data[699] = 6250\n",
        "uni_data[700] = 5250\n",
        "uni_data[701] = 4750\n",
        "uni_data[702] = 5250\n",
        "uni_data[703] = 5750\n",
        "uni_data[704] = 7250\n",
        "uni_data[705] = 8750\n",
        "uni_data[706] = 13000\n",
        "uni_data[707] = 19000\n",
        "uni_data[708] = 25000\n",
        "uni_data[709] = 33000\n",
        "uni_data[710] = 39000\n",
        "uni_data[711] = 47000\n",
        "uni_data[712] = 55000\n",
        "uni_data[713] = 61000\n",
        "uni_data[714] = 69000\n",
        "uni_data[715] = 79000\n",
        "uni_data[716] = 71000\n",
        "uni_data[717] = 57000\n",
        "uni_data[718] = 43000\n",
        "uni_data[719] = 29000\n",
        "uni_data[720] = 13000"
      ],
      "metadata": {
        "id": "OLxxCRpoIZIo"
      },
      "execution_count": 130,
      "outputs": []
    },
    {
      "cell_type": "code",
      "source": [
        "def create_time_steps(length):\n",
        "  return list(range(-length, 0))"
      ],
      "metadata": {
        "id": "GsbJDzlYxqXw"
      },
      "execution_count": 131,
      "outputs": []
    },
    {
      "cell_type": "code",
      "source": [
        "#def show_plot(plot_data, delta, title):\n",
        "labels = ['True_History', 'True Future', 'Model_Prediction']\n",
        "marker = ['.-', 'rx', 'go']\n",
        "time_steps = create_time_steps(a[0].shape[0])\n",
        "arr=[]\n",
        "\n",
        "True_F = a[1]\n",
        "Model_P = a[2]\n",
        "\n",
        "if 0:\n",
        "    future = 0\n",
        "else:\n",
        "  future = 0\n",
        "\n",
        "plt.title(\"X-mas LSTM model\")\n",
        "for i, x in enumerate(a):\n",
        "  if i == 1 :\n",
        "    a[i]=uni_data[TRAIN_SPLIT+17]\n",
        "    #plt.plot(-3, a[i], marker[i], markersize=10, label=labels[i])\n",
        "    print(a[1])\n",
        "  elif i == 2 :\n",
        "    a[i]=(Model_P * a[1]) / True_F\n",
        "    plt.plot(-7, a[i], marker[i], markersize=10, label=labels[i])\n",
        "    print(a[2])\n",
        "  else :\n",
        "    for j in range(TRAIN_SPLIT,TRAIN_SPLIT+24):\n",
        "      arr.append(uni_data[j])\n",
        "    for k in range(0,24):\n",
        "      a[0][k]=arr[k]\n",
        "    plt.plot(time_steps , a[i].flatten(), marker[i], label=labels[i])\n",
        "  plt.legend()\n",
        "  plt.axis('auto')\n",
        "  plt.xlim([time_steps[0], (future+2)*2])\n",
        "  TIME=time_steps\n",
        "  values = ['0','1','2','3','4','5','6','7','8','9','10','11','12','13','14','15','16','17','18','19','20','21','22','23','24'] \n",
        "  plt.xticks(TIME,values,fontsize=8)\n",
        "  plt.gca().spines['top'].set_visible(False)\n",
        "  plt.gca().spines['right'].set_visible(False)\n",
        "  plt.ylabel('population')\n",
        "  plt.xlabel('Time-Step')"
      ],
      "metadata": {
        "id": "W_FDdmtAIPi3",
        "colab": {
          "base_uri": "https://localhost:8080/",
          "height": 331
        },
        "outputId": "438e4a2a-6e88-4ad1-af9b-7ab36d024686"
      },
      "execution_count": 133,
      "outputs": [
        {
          "output_type": "stream",
          "name": "stdout",
          "text": [
            "61000.0\n",
            "[60622.566]\n"
          ]
        },
        {
          "output_type": "display_data",
          "data": {
            "text/plain": [
              "<Figure size 432x288 with 1 Axes>"
            ],
            "image/png": "[encoded data removed]"
          },
          "metadata": {
            "needs_background": "light"
          }
        }
      ]
    },
    {
      "cell_type": "markdown",
      "source": [
        "###카카오 메시지 API 나에게 보내기"
      ],
      "metadata": {
        "id": "YiF-SC8KtMh0"
      }
    },
    {
      "cell_type": "code",
      "source": [
        "predict_data=a[2][0]\n",
        "print(predict_data)"
      ],
      "metadata": {
        "colab": {
          "base_uri": "https://localhost:8080/"
        },
        "id": "5-wh2nP5Vgpn",
        "outputId": "7e19ea2f-a100-48c6-ddbb-3d019ae96f95"
      },
      "execution_count": 134,
      "outputs": [
        {
          "output_type": "stream",
          "name": "stdout",
          "text": [
            "60622.566\n"
          ]
        }
      ]
    },
    {
      "cell_type": "code",
      "source": [
        "uni_data[:552].mean()"
      ],
      "metadata": {
        "colab": {
          "base_uri": "https://localhost:8080/"
        },
        "id": "gvFTMVjyUics",
        "outputId": "d5817178-545f-4c34-e948-2f2a6adcd897"
      },
      "execution_count": 135,
      "outputs": [
        {
          "output_type": "execute_result",
          "data": {
            "text/plain": [
              "45575.742263043474"
            ]
          },
          "metadata": {},
          "execution_count": 135
        }
      ]
    },
    {
      "cell_type": "code",
      "source": [
        "avg = uni_data[:552].mean()\n",
        "avg // 2"
      ],
      "metadata": {
        "colab": {
          "base_uri": "https://localhost:8080/"
        },
        "id": "0gNbr1Y1WDJ3",
        "outputId": "85a14ebd-f267-4798-ff62-45810876443b"
      },
      "execution_count": 136,
      "outputs": [
        {
          "output_type": "execute_result",
          "data": {
            "text/plain": [
              "22787.0"
            ]
          },
          "metadata": {},
          "execution_count": 136
        }
      ]
    },
    {
      "cell_type": "code",
      "source": [
        "###서울시 실시간 데이터의 인구 밀집구분 참조\n",
        "avg = uni_data[:552].mean()\n",
        "predict_data=a[2][0]\n",
        "population=0\n",
        "\n",
        "if predict_data <= (avg // 2):\n",
        "  population= \"여유\"\n",
        "elif predict_data > (avg // 2) and predict_data <= (avg // 1.33):\n",
        "  population= \"보통\"\n",
        "elif predict_data <= (avg // 1.33) and predict_data == avg :\n",
        "  population= \"약간 붐빔\"\n",
        "else:\n",
        "  population= \"붐빔\"\n",
        "\n",
        "print(population)"
      ],
      "metadata": {
        "colab": {
          "base_uri": "https://localhost:8080/"
        },
        "id": "-N0cDJ3ZUx7I",
        "outputId": "ddebbe5b-e691-4076-b48c-03fd9af0a1d5"
      },
      "execution_count": 137,
      "outputs": [
        {
          "output_type": "stream",
          "name": "stdout",
          "text": [
            "붐빔\n"
          ]
        }
      ]
    },
    {
      "cell_type": "code",
      "source": [
        "#text= f'현재 명동의 인구밀집위험도는{population}입니다’\n",
        "print(f'현재 명동의 인구밀집위험도는 {population}입니다.')"
      ],
      "metadata": {
        "colab": {
          "base_uri": "https://localhost:8080/"
        },
        "id": "J1OmgLSxYEyY",
        "outputId": "e6da29fd-9abd-4828-8cad-c233e1352a9a"
      },
      "execution_count": 138,
      "outputs": [
        {
          "output_type": "stream",
          "name": "stdout",
          "text": [
            "현재 명동의 인구밀집위험도는 붐빔입니다.\n"
          ]
        }
      ]
    },
    {
      "cell_type": "code",
      "source": [
        "import requests\n",
        "import json\n",
        "\n",
        "url = 'https://kauth.kakao.com/oauth/token'\n",
        "client_id = 'dd7dd2158951bab32da285b6d47e0cf0'\n",
        "redirect_uri = 'https://example.com/oauth'\n",
        "code = 'IYVVME9Xh2LwPh5UHSebIWX1pE58Pj_Leh4CCjWgT-WTadyIyfRZZPVUDB8xKdsXmDBNjAo9dNkAAAGFTWgizg'\n",
        "\n",
        "data = {\n",
        "    'grant_type':'authorization_code',\n",
        "    'client_id':client_id,\n",
        "    'redirect_uri':redirect_uri,\n",
        "    'code': code,\n",
        "    }\n",
        "\n",
        "response = requests.post(url, data=data)\n",
        "tokens = response.json()\n",
        "\n",
        "#발행된 토큰 저장\n",
        "with open(\"/content/drive/MyDrive/population/token.json\",\"w\") as kakao:\n",
        "    json.dump(tokens, kakao)"
      ],
      "metadata": {
        "id": "_62F7lmnXjOo"
      },
      "execution_count": 141,
      "outputs": []
    },
    {
      "cell_type": "code",
      "source": [
        "text= '현재 명동의 인구밀집위험도는 보통입니다'"
      ],
      "metadata": {
        "id": "MZ0cBGs8XpEQ"
      },
      "execution_count": null,
      "outputs": []
    },
    {
      "cell_type": "code",
      "source": [
        "import requests\n",
        "import json\n",
        "\n",
        "#발행한 토큰 불러오기\n",
        "with open(\"/content/drive/MyDrive/population/token.json\",\"r\") as kakao:\n",
        "    tokens = json.load(kakao)\n",
        "\n",
        "url=\"https://kapi.kakao.com/v2/api/talk/memo/default/send\"\n",
        "\n",
        "headers={\n",
        "    \"Authorization\" : \"Bearer \" + tokens[\"access_token\"]\n",
        "}\n",
        "\n",
        "data = {\n",
        "       'object_type': 'text',\n",
        "       'text': f'현재 명동의 인구밀집위험도는 {population}입니다.',\n",
        "       'link': {\n",
        "           'web_url': 'https://developers.kakao.com',\n",
        "           'mobile_web_url': 'https://developers.kakao.com'\n",
        "       },\n",
        "       'button_title': '키워드'\n",
        "   }\n",
        "   \n",
        "data = {'template_object': json.dumps(data)}\n",
        "response = requests.post(url, headers=headers, data=data)\n",
        "response.status_code"
      ],
      "metadata": {
        "colab": {
          "base_uri": "https://localhost:8080/"
        },
        "id": "MrbDlQ9wXji4",
        "outputId": "e28a8b5e-a360-480f-f43d-e0d92d0a0484"
      },
      "execution_count": 142,
      "outputs": [
        {
          "output_type": "execute_result",
          "data": {
            "text/plain": [
              "200"
            ]
          },
          "metadata": {},
          "execution_count": 142
        }
      ]
    }
  ]
}