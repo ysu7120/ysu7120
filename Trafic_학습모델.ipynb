{
  "nbformat": 4,
  "nbformat_minor": 0,
  "metadata": {
    "colab": {
      "provenance": [],
      "mount_file_id": "1nl827eoq6GMnMQ_wzl2gmNepOPY5ySxT",
      "authorship_tag": "ABX9TyMNxKgX4G34O9BS7W4ZQLd8",
      "include_colab_link": true
    },
    "kernelspec": {
      "name": "python3",
      "display_name": "Python 3"
    },
    "language_info": {
      "name": "python"
    },
    "accelerator": "GPU",
    "gpuClass": "standard"
  },
  "cells": [
    {
      "cell_type": "markdown",
      "metadata": {
        "id": "view-in-github",
        "colab_type": "text"
      },
      "source": [
        "<a href=\"https://colab.research.google.com/github/ysu7120/ysu7120/blob/Convolutional-LSTM-%EC%95%8C%EA%B3%A0%EB%A6%AC%EC%A6%98-%EC%9D%B4%EC%9A%A9%ED%95%9C-%EC%BB%B4%ED%93%A8%ED%84%B0-%EB%B9%84%EC%A0%84-%EC%84%BC%EC%84%9C-%EA%B8%B0%EB%B0%98-%EC%82%AC%EA%B1%B0%EB%A6%AC-%EA%B5%90%ED%86%B5%EC%B2%B4%EC%A6%9D-%EC%98%88%EC%B8%A1-%EC%8B%9C%EC%8A%A4%ED%85%9C/Trafic_%ED%95%99%EC%8A%B5%EB%AA%A8%EB%8D%B8.ipynb\" target=\"_parent\"><img src=\"https://colab.research.google.com/assets/colab-badge.svg\" alt=\"Open In Colab\"/></a>"
      ]
    },
    {
      "cell_type": "code",
      "execution_count": null,
      "metadata": {
        "id": "-H9UrxzbkRn8"
      },
      "outputs": [],
      "source": [
        "%matplotlib inline\n",
        "import pandas as pd\n",
        "import matplotlib.pyplot as plt\n",
        "import os,sys\n",
        "import numpy as np\n",
        "from keras.layers import *\n",
        "from keras.models import *\n",
        "from keras.utils import *\n",
        "from sklearn.preprocessing import *"
      ]
    },
    {
      "cell_type": "markdown",
      "source": [
        "#원본데이터"
      ],
      "metadata": {
        "id": "iBQuRmrLAWrJ"
      }
    },
    {
      "cell_type": "code",
      "source": [
        "# csv 파일을 데이터프레임으로 바꾸기 \n",
        "# 인코딩 : UnicodeDecodeError가 발생하면 encoding을 바꿔볼것\n",
        "# utf-8, euc-kr, cp949\n",
        "# 파일을 인덱스로 지정\n",
        "df = pd.read_csv(\"/content/drive/MyDrive/test.csv\", encoding='utf-8')\n",
        "df"
      ],
      "metadata": {
        "colab": {
          "base_uri": "https://localhost:8080/",
          "height": 424
        },
        "id": "ablYX0JrAVSX",
        "outputId": "143f436b-06c0-4dd3-ae75-5905111d7d29"
      },
      "execution_count": null,
      "outputs": [
        {
          "output_type": "execute_result",
          "data": {
            "text/plain": [
              "                          일자   시간        지점명  지점번호  방향            구분   Mon  \\\n",
              "0    20210101(금)~20210107(목)   0시  성산로(금화터널)  A-01  유입  봉원고가차도->독립문역   209   \n",
              "1    20210101(금)~20210107(목)   1시  성산로(금화터널)  A-01  유입  봉원고가차도->독립문역    98   \n",
              "2    20210101(금)~20210107(목)   2시  성산로(금화터널)  A-01  유입  봉원고가차도->독립문역   116   \n",
              "3    20210101(금)~20210107(목)   3시  성산로(금화터널)  A-01  유입  봉원고가차도->독립문역    97   \n",
              "4    20210101(금)~20210107(목)   4시  성산로(금화터널)  A-01  유입  봉원고가차도->독립문역   224   \n",
              "..                       ...  ...        ...   ...  ..           ...   ...   \n",
              "187  20210122(금)~20210128(목)  19시  성산로(금화터널)  A-01  유출  독립문역->봉원고가차도  1949   \n",
              "188  20210122(금)~20210128(목)  20시  성산로(금화터널)  A-01  유출  독립문역->봉원고가차도  1680   \n",
              "189  20210122(금)~20210128(목)  21시  성산로(금화터널)  A-01  유출  독립문역->봉원고가차도  1633   \n",
              "190  20210122(금)~20210128(목)  22시  성산로(금화터널)  A-01  유출  독립문역->봉원고가차도   850   \n",
              "191  20210122(금)~20210128(목)  23시  성산로(금화터널)  A-01  유출  독립문역->봉원고가차도   646   \n",
              "\n",
              "      Tue   Wed   Thu   Fri   Sat   Sun  \n",
              "0     296   344   182   297   189   258  \n",
              "1     209   213   106   274   135   146  \n",
              "2     150   160   120   150   103   107  \n",
              "3     143   140   106   110    90    84  \n",
              "4     218   215   190   143   130   101  \n",
              "..    ...   ...   ...   ...   ...   ...  \n",
              "187  2116  1953  1483  2179  1197  1014  \n",
              "188  1677  1940  1480  1776  1213  1019  \n",
              "189  1593  1692  1393  1817  1129   906  \n",
              "190  1048  1042   927  1140   736   625  \n",
              "191   670   652   634   727   499   436  \n",
              "\n",
              "[192 rows x 13 columns]"
            ],
            "text/html": [
              "\n",
              "  <div id=\"df-95f1f876-ef05-4537-86f9-97f909fe6ac7\">\n",
              "    <div class=\"colab-df-container\">\n",
              "      <div>\n",
              "<style scoped>\n",
              "    .dataframe tbody tr th:only-of-type {\n",
              "        vertical-align: middle;\n",
              "    }\n",
              "\n",
              "    .dataframe tbody tr th {\n",
              "        vertical-align: top;\n",
              "    }\n",
              "\n",
              "    .dataframe thead th {\n",
              "        text-align: right;\n",
              "    }\n",
              "</style>\n",
              "<table border=\"1\" class=\"dataframe\">\n",
              "  <thead>\n",
              "    <tr style=\"text-align: right;\">\n",
              "      <th></th>\n",
              "      <th>일자</th>\n",
              "      <th>시간</th>\n",
              "      <th>지점명</th>\n",
              "      <th>지점번호</th>\n",
              "      <th>방향</th>\n",
              "      <th>구분</th>\n",
              "      <th>Mon</th>\n",
              "      <th>Tue</th>\n",
              "      <th>Wed</th>\n",
              "      <th>Thu</th>\n",
              "      <th>Fri</th>\n",
              "      <th>Sat</th>\n",
              "      <th>Sun</th>\n",
              "    </tr>\n",
              "  </thead>\n",
              "  <tbody>\n",
              "    <tr>\n",
              "      <th>0</th>\n",
              "      <td>20210101(금)~20210107(목)</td>\n",
              "      <td>0시</td>\n",
              "      <td>성산로(금화터널)</td>\n",
              "      <td>A-01</td>\n",
              "      <td>유입</td>\n",
              "      <td>봉원고가차도-&gt;독립문역</td>\n",
              "      <td>209</td>\n",
              "      <td>296</td>\n",
              "      <td>344</td>\n",
              "      <td>182</td>\n",
              "      <td>297</td>\n",
              "      <td>189</td>\n",
              "      <td>258</td>\n",
              "    </tr>\n",
              "    <tr>\n",
              "      <th>1</th>\n",
              "      <td>20210101(금)~20210107(목)</td>\n",
              "      <td>1시</td>\n",
              "      <td>성산로(금화터널)</td>\n",
              "      <td>A-01</td>\n",
              "      <td>유입</td>\n",
              "      <td>봉원고가차도-&gt;독립문역</td>\n",
              "      <td>98</td>\n",
              "      <td>209</td>\n",
              "      <td>213</td>\n",
              "      <td>106</td>\n",
              "      <td>274</td>\n",
              "      <td>135</td>\n",
              "      <td>146</td>\n",
              "    </tr>\n",
              "    <tr>\n",
              "      <th>2</th>\n",
              "      <td>20210101(금)~20210107(목)</td>\n",
              "      <td>2시</td>\n",
              "      <td>성산로(금화터널)</td>\n",
              "      <td>A-01</td>\n",
              "      <td>유입</td>\n",
              "      <td>봉원고가차도-&gt;독립문역</td>\n",
              "      <td>116</td>\n",
              "      <td>150</td>\n",
              "      <td>160</td>\n",
              "      <td>120</td>\n",
              "      <td>150</td>\n",
              "      <td>103</td>\n",
              "      <td>107</td>\n",
              "    </tr>\n",
              "    <tr>\n",
              "      <th>3</th>\n",
              "      <td>20210101(금)~20210107(목)</td>\n",
              "      <td>3시</td>\n",
              "      <td>성산로(금화터널)</td>\n",
              "      <td>A-01</td>\n",
              "      <td>유입</td>\n",
              "      <td>봉원고가차도-&gt;독립문역</td>\n",
              "      <td>97</td>\n",
              "      <td>143</td>\n",
              "      <td>140</td>\n",
              "      <td>106</td>\n",
              "      <td>110</td>\n",
              "      <td>90</td>\n",
              "      <td>84</td>\n",
              "    </tr>\n",
              "    <tr>\n",
              "      <th>4</th>\n",
              "      <td>20210101(금)~20210107(목)</td>\n",
              "      <td>4시</td>\n",
              "      <td>성산로(금화터널)</td>\n",
              "      <td>A-01</td>\n",
              "      <td>유입</td>\n",
              "      <td>봉원고가차도-&gt;독립문역</td>\n",
              "      <td>224</td>\n",
              "      <td>218</td>\n",
              "      <td>215</td>\n",
              "      <td>190</td>\n",
              "      <td>143</td>\n",
              "      <td>130</td>\n",
              "      <td>101</td>\n",
              "    </tr>\n",
              "    <tr>\n",
              "      <th>...</th>\n",
              "      <td>...</td>\n",
              "      <td>...</td>\n",
              "      <td>...</td>\n",
              "      <td>...</td>\n",
              "      <td>...</td>\n",
              "      <td>...</td>\n",
              "      <td>...</td>\n",
              "      <td>...</td>\n",
              "      <td>...</td>\n",
              "      <td>...</td>\n",
              "      <td>...</td>\n",
              "      <td>...</td>\n",
              "      <td>...</td>\n",
              "    </tr>\n",
              "    <tr>\n",
              "      <th>187</th>\n",
              "      <td>20210122(금)~20210128(목)</td>\n",
              "      <td>19시</td>\n",
              "      <td>성산로(금화터널)</td>\n",
              "      <td>A-01</td>\n",
              "      <td>유출</td>\n",
              "      <td>독립문역-&gt;봉원고가차도</td>\n",
              "      <td>1949</td>\n",
              "      <td>2116</td>\n",
              "      <td>1953</td>\n",
              "      <td>1483</td>\n",
              "      <td>2179</td>\n",
              "      <td>1197</td>\n",
              "      <td>1014</td>\n",
              "    </tr>\n",
              "    <tr>\n",
              "      <th>188</th>\n",
              "      <td>20210122(금)~20210128(목)</td>\n",
              "      <td>20시</td>\n",
              "      <td>성산로(금화터널)</td>\n",
              "      <td>A-01</td>\n",
              "      <td>유출</td>\n",
              "      <td>독립문역-&gt;봉원고가차도</td>\n",
              "      <td>1680</td>\n",
              "      <td>1677</td>\n",
              "      <td>1940</td>\n",
              "      <td>1480</td>\n",
              "      <td>1776</td>\n",
              "      <td>1213</td>\n",
              "      <td>1019</td>\n",
              "    </tr>\n",
              "    <tr>\n",
              "      <th>189</th>\n",
              "      <td>20210122(금)~20210128(목)</td>\n",
              "      <td>21시</td>\n",
              "      <td>성산로(금화터널)</td>\n",
              "      <td>A-01</td>\n",
              "      <td>유출</td>\n",
              "      <td>독립문역-&gt;봉원고가차도</td>\n",
              "      <td>1633</td>\n",
              "      <td>1593</td>\n",
              "      <td>1692</td>\n",
              "      <td>1393</td>\n",
              "      <td>1817</td>\n",
              "      <td>1129</td>\n",
              "      <td>906</td>\n",
              "    </tr>\n",
              "    <tr>\n",
              "      <th>190</th>\n",
              "      <td>20210122(금)~20210128(목)</td>\n",
              "      <td>22시</td>\n",
              "      <td>성산로(금화터널)</td>\n",
              "      <td>A-01</td>\n",
              "      <td>유출</td>\n",
              "      <td>독립문역-&gt;봉원고가차도</td>\n",
              "      <td>850</td>\n",
              "      <td>1048</td>\n",
              "      <td>1042</td>\n",
              "      <td>927</td>\n",
              "      <td>1140</td>\n",
              "      <td>736</td>\n",
              "      <td>625</td>\n",
              "    </tr>\n",
              "    <tr>\n",
              "      <th>191</th>\n",
              "      <td>20210122(금)~20210128(목)</td>\n",
              "      <td>23시</td>\n",
              "      <td>성산로(금화터널)</td>\n",
              "      <td>A-01</td>\n",
              "      <td>유출</td>\n",
              "      <td>독립문역-&gt;봉원고가차도</td>\n",
              "      <td>646</td>\n",
              "      <td>670</td>\n",
              "      <td>652</td>\n",
              "      <td>634</td>\n",
              "      <td>727</td>\n",
              "      <td>499</td>\n",
              "      <td>436</td>\n",
              "    </tr>\n",
              "  </tbody>\n",
              "</table>\n",
              "<p>192 rows × 13 columns</p>\n",
              "</div>\n",
              "      <button class=\"colab-df-convert\" onclick=\"convertToInteractive('df-95f1f876-ef05-4537-86f9-97f909fe6ac7')\"\n",
              "              title=\"Convert this dataframe to an interactive table.\"\n",
              "              style=\"display:none;\">\n",
              "        \n",
              "  <svg xmlns=\"http://www.w3.org/2000/svg\" height=\"24px\"viewBox=\"0 0 24 24\"\n",
              "       width=\"24px\">\n",
              "    <path d=\"M0 0h24v24H0V0z\" fill=\"none\"/>\n",
              "    <path d=\"M18.56 5.44l.94 2.06.94-2.06 2.06-.94-2.06-.94-.94-2.06-.94 2.06-2.06.94zm-11 1L8.5 8.5l.94-2.06 2.06-.94-2.06-.94L8.5 2.5l-.94 2.06-2.06.94zm10 10l.94 2.06.94-2.06 2.06-.94-2.06-.94-.94-2.06-.94 2.06-2.06.94z\"/><path d=\"M17.41 7.96l-1.37-1.37c-.4-.4-.92-.59-1.43-.59-.52 0-1.04.2-1.43.59L10.3 9.45l-7.72 7.72c-.78.78-.78 2.05 0 2.83L4 21.41c.39.39.9.59 1.41.59.51 0 1.02-.2 1.41-.59l7.78-7.78 2.81-2.81c.8-.78.8-2.07 0-2.86zM5.41 20L4 18.59l7.72-7.72 1.47 1.35L5.41 20z\"/>\n",
              "  </svg>\n",
              "      </button>\n",
              "      \n",
              "  <style>\n",
              "    .colab-df-container {\n",
              "      display:flex;\n",
              "      flex-wrap:wrap;\n",
              "      gap: 12px;\n",
              "    }\n",
              "\n",
              "    .colab-df-convert {\n",
              "      background-color: #E8F0FE;\n",
              "      border: none;\n",
              "      border-radius: 50%;\n",
              "      cursor: pointer;\n",
              "      display: none;\n",
              "      fill: #1967D2;\n",
              "      height: 32px;\n",
              "      padding: 0 0 0 0;\n",
              "      width: 32px;\n",
              "    }\n",
              "\n",
              "    .colab-df-convert:hover {\n",
              "      background-color: #E2EBFA;\n",
              "      box-shadow: 0px 1px 2px rgba(60, 64, 67, 0.3), 0px 1px 3px 1px rgba(60, 64, 67, 0.15);\n",
              "      fill: #174EA6;\n",
              "    }\n",
              "\n",
              "    [theme=dark] .colab-df-convert {\n",
              "      background-color: #3B4455;\n",
              "      fill: #D2E3FC;\n",
              "    }\n",
              "\n",
              "    [theme=dark] .colab-df-convert:hover {\n",
              "      background-color: #434B5C;\n",
              "      box-shadow: 0px 1px 3px 1px rgba(0, 0, 0, 0.15);\n",
              "      filter: drop-shadow(0px 1px 2px rgba(0, 0, 0, 0.3));\n",
              "      fill: #FFFFFF;\n",
              "    }\n",
              "  </style>\n",
              "\n",
              "      <script>\n",
              "        const buttonEl =\n",
              "          document.querySelector('#df-95f1f876-ef05-4537-86f9-97f909fe6ac7 button.colab-df-convert');\n",
              "        buttonEl.style.display =\n",
              "          google.colab.kernel.accessAllowed ? 'block' : 'none';\n",
              "\n",
              "        async function convertToInteractive(key) {\n",
              "          const element = document.querySelector('#df-95f1f876-ef05-4537-86f9-97f909fe6ac7');\n",
              "          const dataTable =\n",
              "            await google.colab.kernel.invokeFunction('convertToInteractive',\n",
              "                                                     [key], {});\n",
              "          if (!dataTable) return;\n",
              "\n",
              "          const docLinkHtml = 'Like what you see? Visit the ' +\n",
              "            '<a target=\"_blank\" href=https://colab.research.google.com/notebooks/data_table.ipynb>data table notebook</a>'\n",
              "            + ' to learn more about interactive tables.';\n",
              "          element.innerHTML = '';\n",
              "          dataTable['output_type'] = 'display_data';\n",
              "          await google.colab.output.renderOutput(dataTable, element);\n",
              "          const docLink = document.createElement('div');\n",
              "          docLink.innerHTML = docLinkHtml;\n",
              "          element.appendChild(docLink);\n",
              "        }\n",
              "      </script>\n",
              "    </div>\n",
              "  </div>\n",
              "  "
            ]
          },
          "metadata": {},
          "execution_count": 3
        }
      ]
    },
    {
      "cell_type": "code",
      "source": [
        "# 컬럼명 확인\n",
        "df.columns "
      ],
      "metadata": {
        "colab": {
          "base_uri": "https://localhost:8080/"
        },
        "id": "qNnr6eIEdo86",
        "outputId": "0a38b329-49d3-45f0-f915-648184a2fbdf"
      },
      "execution_count": null,
      "outputs": [
        {
          "output_type": "execute_result",
          "data": {
            "text/plain": [
              "Index(['일자', '시간', '지점명', '지점번호', '방향', '구분', 'Mon', 'Tue', 'Wed', 'Thu',\n",
              "       'Fri', 'Sat', 'Sun'],\n",
              "      dtype='object')"
            ]
          },
          "metadata": {},
          "execution_count": 4
        }
      ]
    },
    {
      "cell_type": "markdown",
      "source": [
        "### 20210104 (월) 데이터그래프"
      ],
      "metadata": {
        "id": "cJ10hK7HjjCU"
      }
    },
    {
      "cell_type": "code",
      "source": [
        "df_s=df.loc[:, ['일자','시간', '방향','Mon', 'Tue', 'Wed', 'Thu',\n",
        "       'Fri', 'Sat', 'Sun']]\n",
        "df_s=df_s[df_s['일자']=='20210101(금)~20210107(목)']\n",
        "df1=df_s[df_s['방향'] == '유입']\n",
        "df_m=df1.loc[:, ['Mon']]\n",
        "df_m.rename(columns={'Mon':'Trafic'},inplace = True)\n",
        "df_m\n",
        "\n",
        "population = df_m['Trafic']\n",
        "population.index = [0,1,2,3,4,5,6,7,8,9,10,11,12,13,14,15,16,17,18,19,20,21,22,23]\n",
        "plt.plot(population)"
      ],
      "metadata": {
        "colab": {
          "base_uri": "https://localhost:8080/",
          "height": 283
        },
        "id": "cAdCftLnd16H",
        "outputId": "10528307-b03a-4d2f-a3ff-b4d462a26e6d"
      },
      "execution_count": null,
      "outputs": [
        {
          "output_type": "execute_result",
          "data": {
            "text/plain": [
              "[<matplotlib.lines.Line2D at 0x7f2c30baa6d0>]"
            ]
          },
          "metadata": {},
          "execution_count": 5
        },
        {
          "output_type": "display_data",
          "data": {
            "text/plain": [
              "<Figure size 432x288 with 1 Axes>"
            ],
            "image/png": "[encoded data removed]"
          },
          "metadata": {
            "needs_background": "light"
          }
        }
      ]
    },
    {
      "cell_type": "markdown",
      "source": [
        "#데이터셋 제작\n",
        "### 1월 4주간 24시간 성산로(금화터널) 차량유입 데이터"
      ],
      "metadata": {
        "id": "cxA6jcATj0jr"
      }
    },
    {
      "cell_type": "code",
      "source": [
        "df_s=df.loc[:, ['시간', '방향','Mon', 'Tue', 'Wed', 'Thu',\n",
        "       'Fri', 'Sat', 'Sun']]\n",
        "df1=df_s[df_s['방향'] == '유입']\n",
        "df1"
      ],
      "metadata": {
        "colab": {
          "base_uri": "https://localhost:8080/",
          "height": 424
        },
        "id": "_dH37CuBdrGw",
        "outputId": "0b9a6927-9866-42db-8897-a6cc697ecae8"
      },
      "execution_count": null,
      "outputs": [
        {
          "output_type": "execute_result",
          "data": {
            "text/plain": [
              "     시간  방향   Mon   Tue   Wed   Thu   Fri   Sat  Sun\n",
              "0    0시  유입   209   296   344   182   297   189  258\n",
              "1    1시  유입    98   209   213   106   274   135  146\n",
              "2    2시  유입   116   150   160   120   150   103  107\n",
              "3    3시  유입    97   143   140   106   110    90   84\n",
              "4    4시  유입   224   218   215   190   143   130  101\n",
              "..  ...  ..   ...   ...   ...   ...   ...   ...  ...\n",
              "91  19시  유입  1298  1368  1534  1310  1465  1083  878\n",
              "92  20시  유입  1078  1142  1151  1041  1217   955  868\n",
              "93  21시  유입  1108  1082  1121  1001  1127   991  730\n",
              "94  22시  유입   807   815   902   796   998   695  595\n",
              "95  23시  유입   568   587   573   569   672   464  382\n",
              "\n",
              "[96 rows x 9 columns]"
            ],
            "text/html": [
              "\n",
              "  <div id=\"df-04ecbb50-388f-404d-ab8d-c3cee2dc8e38\">\n",
              "    <div class=\"colab-df-container\">\n",
              "      <div>\n",
              "<style scoped>\n",
              "    .dataframe tbody tr th:only-of-type {\n",
              "        vertical-align: middle;\n",
              "    }\n",
              "\n",
              "    .dataframe tbody tr th {\n",
              "        vertical-align: top;\n",
              "    }\n",
              "\n",
              "    .dataframe thead th {\n",
              "        text-align: right;\n",
              "    }\n",
              "</style>\n",
              "<table border=\"1\" class=\"dataframe\">\n",
              "  <thead>\n",
              "    <tr style=\"text-align: right;\">\n",
              "      <th></th>\n",
              "      <th>시간</th>\n",
              "      <th>방향</th>\n",
              "      <th>Mon</th>\n",
              "      <th>Tue</th>\n",
              "      <th>Wed</th>\n",
              "      <th>Thu</th>\n",
              "      <th>Fri</th>\n",
              "      <th>Sat</th>\n",
              "      <th>Sun</th>\n",
              "    </tr>\n",
              "  </thead>\n",
              "  <tbody>\n",
              "    <tr>\n",
              "      <th>0</th>\n",
              "      <td>0시</td>\n",
              "      <td>유입</td>\n",
              "      <td>209</td>\n",
              "      <td>296</td>\n",
              "      <td>344</td>\n",
              "      <td>182</td>\n",
              "      <td>297</td>\n",
              "      <td>189</td>\n",
              "      <td>258</td>\n",
              "    </tr>\n",
              "    <tr>\n",
              "      <th>1</th>\n",
              "      <td>1시</td>\n",
              "      <td>유입</td>\n",
              "      <td>98</td>\n",
              "      <td>209</td>\n",
              "      <td>213</td>\n",
              "      <td>106</td>\n",
              "      <td>274</td>\n",
              "      <td>135</td>\n",
              "      <td>146</td>\n",
              "    </tr>\n",
              "    <tr>\n",
              "      <th>2</th>\n",
              "      <td>2시</td>\n",
              "      <td>유입</td>\n",
              "      <td>116</td>\n",
              "      <td>150</td>\n",
              "      <td>160</td>\n",
              "      <td>120</td>\n",
              "      <td>150</td>\n",
              "      <td>103</td>\n",
              "      <td>107</td>\n",
              "    </tr>\n",
              "    <tr>\n",
              "      <th>3</th>\n",
              "      <td>3시</td>\n",
              "      <td>유입</td>\n",
              "      <td>97</td>\n",
              "      <td>143</td>\n",
              "      <td>140</td>\n",
              "      <td>106</td>\n",
              "      <td>110</td>\n",
              "      <td>90</td>\n",
              "      <td>84</td>\n",
              "    </tr>\n",
              "    <tr>\n",
              "      <th>4</th>\n",
              "      <td>4시</td>\n",
              "      <td>유입</td>\n",
              "      <td>224</td>\n",
              "      <td>218</td>\n",
              "      <td>215</td>\n",
              "      <td>190</td>\n",
              "      <td>143</td>\n",
              "      <td>130</td>\n",
              "      <td>101</td>\n",
              "    </tr>\n",
              "    <tr>\n",
              "      <th>...</th>\n",
              "      <td>...</td>\n",
              "      <td>...</td>\n",
              "      <td>...</td>\n",
              "      <td>...</td>\n",
              "      <td>...</td>\n",
              "      <td>...</td>\n",
              "      <td>...</td>\n",
              "      <td>...</td>\n",
              "      <td>...</td>\n",
              "    </tr>\n",
              "    <tr>\n",
              "      <th>91</th>\n",
              "      <td>19시</td>\n",
              "      <td>유입</td>\n",
              "      <td>1298</td>\n",
              "      <td>1368</td>\n",
              "      <td>1534</td>\n",
              "      <td>1310</td>\n",
              "      <td>1465</td>\n",
              "      <td>1083</td>\n",
              "      <td>878</td>\n",
              "    </tr>\n",
              "    <tr>\n",
              "      <th>92</th>\n",
              "      <td>20시</td>\n",
              "      <td>유입</td>\n",
              "      <td>1078</td>\n",
              "      <td>1142</td>\n",
              "      <td>1151</td>\n",
              "      <td>1041</td>\n",
              "      <td>1217</td>\n",
              "      <td>955</td>\n",
              "      <td>868</td>\n",
              "    </tr>\n",
              "    <tr>\n",
              "      <th>93</th>\n",
              "      <td>21시</td>\n",
              "      <td>유입</td>\n",
              "      <td>1108</td>\n",
              "      <td>1082</td>\n",
              "      <td>1121</td>\n",
              "      <td>1001</td>\n",
              "      <td>1127</td>\n",
              "      <td>991</td>\n",
              "      <td>730</td>\n",
              "    </tr>\n",
              "    <tr>\n",
              "      <th>94</th>\n",
              "      <td>22시</td>\n",
              "      <td>유입</td>\n",
              "      <td>807</td>\n",
              "      <td>815</td>\n",
              "      <td>902</td>\n",
              "      <td>796</td>\n",
              "      <td>998</td>\n",
              "      <td>695</td>\n",
              "      <td>595</td>\n",
              "    </tr>\n",
              "    <tr>\n",
              "      <th>95</th>\n",
              "      <td>23시</td>\n",
              "      <td>유입</td>\n",
              "      <td>568</td>\n",
              "      <td>587</td>\n",
              "      <td>573</td>\n",
              "      <td>569</td>\n",
              "      <td>672</td>\n",
              "      <td>464</td>\n",
              "      <td>382</td>\n",
              "    </tr>\n",
              "  </tbody>\n",
              "</table>\n",
              "<p>96 rows × 9 columns</p>\n",
              "</div>\n",
              "      <button class=\"colab-df-convert\" onclick=\"convertToInteractive('df-04ecbb50-388f-404d-ab8d-c3cee2dc8e38')\"\n",
              "              title=\"Convert this dataframe to an interactive table.\"\n",
              "              style=\"display:none;\">\n",
              "        \n",
              "  <svg xmlns=\"http://www.w3.org/2000/svg\" height=\"24px\"viewBox=\"0 0 24 24\"\n",
              "       width=\"24px\">\n",
              "    <path d=\"M0 0h24v24H0V0z\" fill=\"none\"/>\n",
              "    <path d=\"M18.56 5.44l.94 2.06.94-2.06 2.06-.94-2.06-.94-.94-2.06-.94 2.06-2.06.94zm-11 1L8.5 8.5l.94-2.06 2.06-.94-2.06-.94L8.5 2.5l-.94 2.06-2.06.94zm10 10l.94 2.06.94-2.06 2.06-.94-2.06-.94-.94-2.06-.94 2.06-2.06.94z\"/><path d=\"M17.41 7.96l-1.37-1.37c-.4-.4-.92-.59-1.43-.59-.52 0-1.04.2-1.43.59L10.3 9.45l-7.72 7.72c-.78.78-.78 2.05 0 2.83L4 21.41c.39.39.9.59 1.41.59.51 0 1.02-.2 1.41-.59l7.78-7.78 2.81-2.81c.8-.78.8-2.07 0-2.86zM5.41 20L4 18.59l7.72-7.72 1.47 1.35L5.41 20z\"/>\n",
              "  </svg>\n",
              "      </button>\n",
              "      \n",
              "  <style>\n",
              "    .colab-df-container {\n",
              "      display:flex;\n",
              "      flex-wrap:wrap;\n",
              "      gap: 12px;\n",
              "    }\n",
              "\n",
              "    .colab-df-convert {\n",
              "      background-color: #E8F0FE;\n",
              "      border: none;\n",
              "      border-radius: 50%;\n",
              "      cursor: pointer;\n",
              "      display: none;\n",
              "      fill: #1967D2;\n",
              "      height: 32px;\n",
              "      padding: 0 0 0 0;\n",
              "      width: 32px;\n",
              "    }\n",
              "\n",
              "    .colab-df-convert:hover {\n",
              "      background-color: #E2EBFA;\n",
              "      box-shadow: 0px 1px 2px rgba(60, 64, 67, 0.3), 0px 1px 3px 1px rgba(60, 64, 67, 0.15);\n",
              "      fill: #174EA6;\n",
              "    }\n",
              "\n",
              "    [theme=dark] .colab-df-convert {\n",
              "      background-color: #3B4455;\n",
              "      fill: #D2E3FC;\n",
              "    }\n",
              "\n",
              "    [theme=dark] .colab-df-convert:hover {\n",
              "      background-color: #434B5C;\n",
              "      box-shadow: 0px 1px 3px 1px rgba(0, 0, 0, 0.15);\n",
              "      filter: drop-shadow(0px 1px 2px rgba(0, 0, 0, 0.3));\n",
              "      fill: #FFFFFF;\n",
              "    }\n",
              "  </style>\n",
              "\n",
              "      <script>\n",
              "        const buttonEl =\n",
              "          document.querySelector('#df-04ecbb50-388f-404d-ab8d-c3cee2dc8e38 button.colab-df-convert');\n",
              "        buttonEl.style.display =\n",
              "          google.colab.kernel.accessAllowed ? 'block' : 'none';\n",
              "\n",
              "        async function convertToInteractive(key) {\n",
              "          const element = document.querySelector('#df-04ecbb50-388f-404d-ab8d-c3cee2dc8e38');\n",
              "          const dataTable =\n",
              "            await google.colab.kernel.invokeFunction('convertToInteractive',\n",
              "                                                     [key], {});\n",
              "          if (!dataTable) return;\n",
              "\n",
              "          const docLinkHtml = 'Like what you see? Visit the ' +\n",
              "            '<a target=\"_blank\" href=https://colab.research.google.com/notebooks/data_table.ipynb>data table notebook</a>'\n",
              "            + ' to learn more about interactive tables.';\n",
              "          element.innerHTML = '';\n",
              "          dataTable['output_type'] = 'display_data';\n",
              "          await google.colab.output.renderOutput(dataTable, element);\n",
              "          const docLink = document.createElement('div');\n",
              "          docLink.innerHTML = docLinkHtml;\n",
              "          element.appendChild(docLink);\n",
              "        }\n",
              "      </script>\n",
              "    </div>\n",
              "  </div>\n",
              "  "
            ]
          },
          "metadata": {},
          "execution_count": 6
        }
      ]
    },
    {
      "cell_type": "code",
      "source": [
        "df_m=df1.loc[:, ['Mon']]\n",
        "df_m.rename(columns={'Mon':'Trafic'},inplace = True)\n",
        "df_t=df1.loc[:, ['Tue']]\n",
        "df_t.rename(columns={'Tue':'Trafic'},inplace = True)\n",
        "df_w=df1.loc[:, ['Wed']]\n",
        "df_w.rename(columns={'Wed':'Trafic'},inplace = True)\n",
        "df_th=df1.loc[:, ['Thu']]\n",
        "df_th.rename(columns={'Thu':'Trafic'},inplace = True)\n",
        "df_f=df1.loc[:, ['Fri']]\n",
        "df_f.rename(columns={'Fri':'Trafic'},inplace = True)\n",
        "df_sa=df1.loc[:, ['Sat']]\n",
        "df_sa.rename(columns={'Sat':'Trafic'},inplace = True)\n",
        "df_su=df1.loc[:, ['Sun']]\n",
        "df_su.rename(columns={'Sun':'Trafic'},inplace = True)"
      ],
      "metadata": {
        "id": "jbXMNqc_dxx7"
      },
      "execution_count": null,
      "outputs": []
    },
    {
      "cell_type": "code",
      "source": [
        "new_df = pd.concat([df_m, df_t, df_w, df_th, df_f, df_sa, df_su], ignore_index = True)\n",
        "new_df"
      ],
      "metadata": {
        "colab": {
          "base_uri": "https://localhost:8080/",
          "height": 424
        },
        "id": "Rma9HpDUd0HZ",
        "outputId": "2db49121-5866-4f39-a2be-c4aaa25a264d"
      },
      "execution_count": null,
      "outputs": [
        {
          "output_type": "execute_result",
          "data": {
            "text/plain": [
              "     Trafic\n",
              "0       209\n",
              "1        98\n",
              "2       116\n",
              "3        97\n",
              "4       224\n",
              "..      ...\n",
              "667     878\n",
              "668     868\n",
              "669     730\n",
              "670     595\n",
              "671     382\n",
              "\n",
              "[672 rows x 1 columns]"
            ],
            "text/html": [
              "\n",
              "  <div id=\"df-f2ddc28c-a8d7-4461-a1df-7d45e5f3257d\">\n",
              "    <div class=\"colab-df-container\">\n",
              "      <div>\n",
              "<style scoped>\n",
              "    .dataframe tbody tr th:only-of-type {\n",
              "        vertical-align: middle;\n",
              "    }\n",
              "\n",
              "    .dataframe tbody tr th {\n",
              "        vertical-align: top;\n",
              "    }\n",
              "\n",
              "    .dataframe thead th {\n",
              "        text-align: right;\n",
              "    }\n",
              "</style>\n",
              "<table border=\"1\" class=\"dataframe\">\n",
              "  <thead>\n",
              "    <tr style=\"text-align: right;\">\n",
              "      <th></th>\n",
              "      <th>Trafic</th>\n",
              "    </tr>\n",
              "  </thead>\n",
              "  <tbody>\n",
              "    <tr>\n",
              "      <th>0</th>\n",
              "      <td>209</td>\n",
              "    </tr>\n",
              "    <tr>\n",
              "      <th>1</th>\n",
              "      <td>98</td>\n",
              "    </tr>\n",
              "    <tr>\n",
              "      <th>2</th>\n",
              "      <td>116</td>\n",
              "    </tr>\n",
              "    <tr>\n",
              "      <th>3</th>\n",
              "      <td>97</td>\n",
              "    </tr>\n",
              "    <tr>\n",
              "      <th>4</th>\n",
              "      <td>224</td>\n",
              "    </tr>\n",
              "    <tr>\n",
              "      <th>...</th>\n",
              "      <td>...</td>\n",
              "    </tr>\n",
              "    <tr>\n",
              "      <th>667</th>\n",
              "      <td>878</td>\n",
              "    </tr>\n",
              "    <tr>\n",
              "      <th>668</th>\n",
              "      <td>868</td>\n",
              "    </tr>\n",
              "    <tr>\n",
              "      <th>669</th>\n",
              "      <td>730</td>\n",
              "    </tr>\n",
              "    <tr>\n",
              "      <th>670</th>\n",
              "      <td>595</td>\n",
              "    </tr>\n",
              "    <tr>\n",
              "      <th>671</th>\n",
              "      <td>382</td>\n",
              "    </tr>\n",
              "  </tbody>\n",
              "</table>\n",
              "<p>672 rows × 1 columns</p>\n",
              "</div>\n",
              "      <button class=\"colab-df-convert\" onclick=\"convertToInteractive('df-f2ddc28c-a8d7-4461-a1df-7d45e5f3257d')\"\n",
              "              title=\"Convert this dataframe to an interactive table.\"\n",
              "              style=\"display:none;\">\n",
              "        \n",
              "  <svg xmlns=\"http://www.w3.org/2000/svg\" height=\"24px\"viewBox=\"0 0 24 24\"\n",
              "       width=\"24px\">\n",
              "    <path d=\"M0 0h24v24H0V0z\" fill=\"none\"/>\n",
              "    <path d=\"M18.56 5.44l.94 2.06.94-2.06 2.06-.94-2.06-.94-.94-2.06-.94 2.06-2.06.94zm-11 1L8.5 8.5l.94-2.06 2.06-.94-2.06-.94L8.5 2.5l-.94 2.06-2.06.94zm10 10l.94 2.06.94-2.06 2.06-.94-2.06-.94-.94-2.06-.94 2.06-2.06.94z\"/><path d=\"M17.41 7.96l-1.37-1.37c-.4-.4-.92-.59-1.43-.59-.52 0-1.04.2-1.43.59L10.3 9.45l-7.72 7.72c-.78.78-.78 2.05 0 2.83L4 21.41c.39.39.9.59 1.41.59.51 0 1.02-.2 1.41-.59l7.78-7.78 2.81-2.81c.8-.78.8-2.07 0-2.86zM5.41 20L4 18.59l7.72-7.72 1.47 1.35L5.41 20z\"/>\n",
              "  </svg>\n",
              "      </button>\n",
              "      \n",
              "  <style>\n",
              "    .colab-df-container {\n",
              "      display:flex;\n",
              "      flex-wrap:wrap;\n",
              "      gap: 12px;\n",
              "    }\n",
              "\n",
              "    .colab-df-convert {\n",
              "      background-color: #E8F0FE;\n",
              "      border: none;\n",
              "      border-radius: 50%;\n",
              "      cursor: pointer;\n",
              "      display: none;\n",
              "      fill: #1967D2;\n",
              "      height: 32px;\n",
              "      padding: 0 0 0 0;\n",
              "      width: 32px;\n",
              "    }\n",
              "\n",
              "    .colab-df-convert:hover {\n",
              "      background-color: #E2EBFA;\n",
              "      box-shadow: 0px 1px 2px rgba(60, 64, 67, 0.3), 0px 1px 3px 1px rgba(60, 64, 67, 0.15);\n",
              "      fill: #174EA6;\n",
              "    }\n",
              "\n",
              "    [theme=dark] .colab-df-convert {\n",
              "      background-color: #3B4455;\n",
              "      fill: #D2E3FC;\n",
              "    }\n",
              "\n",
              "    [theme=dark] .colab-df-convert:hover {\n",
              "      background-color: #434B5C;\n",
              "      box-shadow: 0px 1px 3px 1px rgba(0, 0, 0, 0.15);\n",
              "      filter: drop-shadow(0px 1px 2px rgba(0, 0, 0, 0.3));\n",
              "      fill: #FFFFFF;\n",
              "    }\n",
              "  </style>\n",
              "\n",
              "      <script>\n",
              "        const buttonEl =\n",
              "          document.querySelector('#df-f2ddc28c-a8d7-4461-a1df-7d45e5f3257d button.colab-df-convert');\n",
              "        buttonEl.style.display =\n",
              "          google.colab.kernel.accessAllowed ? 'block' : 'none';\n",
              "\n",
              "        async function convertToInteractive(key) {\n",
              "          const element = document.querySelector('#df-f2ddc28c-a8d7-4461-a1df-7d45e5f3257d');\n",
              "          const dataTable =\n",
              "            await google.colab.kernel.invokeFunction('convertToInteractive',\n",
              "                                                     [key], {});\n",
              "          if (!dataTable) return;\n",
              "\n",
              "          const docLinkHtml = 'Like what you see? Visit the ' +\n",
              "            '<a target=\"_blank\" href=https://colab.research.google.com/notebooks/data_table.ipynb>data table notebook</a>'\n",
              "            + ' to learn more about interactive tables.';\n",
              "          element.innerHTML = '';\n",
              "          dataTable['output_type'] = 'display_data';\n",
              "          await google.colab.output.renderOutput(dataTable, element);\n",
              "          const docLink = document.createElement('div');\n",
              "          docLink.innerHTML = docLinkHtml;\n",
              "          element.appendChild(docLink);\n",
              "        }\n",
              "      </script>\n",
              "    </div>\n",
              "  </div>\n",
              "  "
            ]
          },
          "metadata": {},
          "execution_count": 8
        }
      ]
    },
    {
      "cell_type": "code",
      "source": [
        "df = new_df"
      ],
      "metadata": {
        "id": "a1uHUAd7eB9k"
      },
      "execution_count": null,
      "outputs": []
    },
    {
      "cell_type": "markdown",
      "source": [
        "##모델에 입력시작"
      ],
      "metadata": {
        "id": "r8H0c6nWEj-U"
      }
    },
    {
      "cell_type": "markdown",
      "source": [
        "###단일특성 데이터 정제함수"
      ],
      "metadata": {
        "id": "gdUdk-9lEqMz"
      }
    },
    {
      "cell_type": "code",
      "source": [
        "def univeriate_data(dataset, start_index, end_index, history_size, target_size):\n",
        "  data = []\n",
        "  labels = []\n",
        "\n",
        "  start_index = start_index + history_size\n",
        "  if end_index is None:\n",
        "    end_index = len(dataset) - target_size\n",
        "\n",
        "  for i in range(start_index, end_index):\n",
        "    indices = range(i-history_size, i)\n",
        "    data.append(np.reshape(dataset[indices], (history_size, 1)))\n",
        "    labels.append(dataset[i+target_size])\n",
        "  return np.array(data), np.array(labels)"
      ],
      "metadata": {
        "id": "Znt5tyYzEnD3"
      },
      "execution_count": null,
      "outputs": []
    },
    {
      "cell_type": "code",
      "source": [
        "#### 학습값 지정 및 랜덤시드 선택\n",
        "TRAIN_SPLIT = 624\n",
        "tf.random.set_seed(13)"
      ],
      "metadata": {
        "id": "TcucUQa-Ethv"
      },
      "execution_count": null,
      "outputs": []
    },
    {
      "cell_type": "code",
      "source": [
        "###총인구수 데이터 저장\n",
        "uni_data = df['Trafic']\n",
        "uni_data.index = df['Trafic']\n",
        "uni_data.head()"
      ],
      "metadata": {
        "colab": {
          "base_uri": "https://localhost:8080/"
        },
        "id": "cbLBRbIzE0Qb",
        "outputId": "6b34f564-dd90-4f2e-b4d4-04b9d2ec1525"
      },
      "execution_count": null,
      "outputs": [
        {
          "output_type": "execute_result",
          "data": {
            "text/plain": [
              "Trafic\n",
              "209    209\n",
              "98      98\n",
              "116    116\n",
              "97      97\n",
              "224    224\n",
              "Name: Trafic, dtype: int64"
            ]
          },
          "metadata": {},
          "execution_count": 14
        }
      ]
    },
    {
      "cell_type": "code",
      "source": [
        "# 데이터 정규화\n",
        "uni_data = uni_data.values"
      ],
      "metadata": {
        "id": "UEsc9eMlE7wA"
      },
      "execution_count": null,
      "outputs": []
    },
    {
      "cell_type": "code",
      "source": [
        "uni_train_mean = uni_data[:TRAIN_SPLIT].mean()\n",
        "uni_train_std = uni_data[:TRAIN_SPLIT].std()\n",
        "uni_data = (uni_data-uni_train_mean)/uni_train_std"
      ],
      "metadata": {
        "id": "7Olp-MHLE79L"
      },
      "execution_count": null,
      "outputs": []
    },
    {
      "cell_type": "code",
      "source": [
        "####train val 데이터 정제\n",
        "univariate_past_history = 24\n",
        "univariate_future_target = 0\n",
        "\n",
        "x_train_uni, y_train_uni = univeriate_data(uni_data, 0, TRAIN_SPLIT, \n",
        "                                           univariate_past_history, univariate_future_target)\n",
        "\n",
        "x_val_uni, y_val_uni = univeriate_data(uni_data, TRAIN_SPLIT, None, \n",
        "                                       univariate_past_history, univariate_future_target)"
      ],
      "metadata": {
        "id": "dEl7YwS8HAdx"
      },
      "execution_count": null,
      "outputs": []
    },
    {
      "cell_type": "code",
      "source": [
        "print('Single window of past history')\n",
        "print(x_train_uni[0])\n",
        "print('\\n target temperature to predict')\n",
        "print(y_train_uni[0])"
      ],
      "metadata": {
        "colab": {
          "base_uri": "https://localhost:8080/"
        },
        "id": "ikjeDTOUHBHI",
        "outputId": "b467774c-231f-4c5a-f0aa-cabc30016ba6"
      },
      "execution_count": null,
      "outputs": [
        {
          "output_type": "stream",
          "name": "stdout",
          "text": [
            "Single window of past history\n",
            "[[-1.30281798]\n",
            " [-1.45833062]\n",
            " [-1.43311235]\n",
            " [-1.45973163]\n",
            " [-1.28180276]\n",
            " [-0.70178266]\n",
            " [ 0.65580063]\n",
            " [ 1.94333319]\n",
            " [ 2.0680235 ]\n",
            " [ 1.40954657]\n",
            " [ 0.95281576]\n",
            " [ 0.74266355]\n",
            " [ 0.46946567]\n",
            " [ 0.65860266]\n",
            " [ 0.75106964]\n",
            " [ 0.80570921]\n",
            " [ 0.7762879 ]\n",
            " [ 1.0424807 ]\n",
            " [ 0.66280571]\n",
            " [ 0.30414593]\n",
            " [-0.06712298]\n",
            " [-0.20442242]\n",
            " [-0.60090959]\n",
            " [-0.88531559]]\n",
            "\n",
            " target temperature to predict\n",
            "-1.3000159524469324\n"
          ]
        }
      ]
    },
    {
      "cell_type": "code",
      "source": [
        "def create_time_steps(length):\n",
        "  return list(range(-length, 0))"
      ],
      "metadata": {
        "id": "Mg8khuPtHCHj"
      },
      "execution_count": null,
      "outputs": []
    },
    {
      "cell_type": "code",
      "source": [
        "def show_plot(plot_data, delta, title):\n",
        "  labels = ['History', 'True Future', 'Model Prediction']\n",
        "  marker = ['.-', 'rx', 'go']\n",
        "  time_steps = create_time_steps(plot_data[0].shape[0])\n",
        "  if delta:\n",
        "    future = delta\n",
        "  else:\n",
        "    future = 0\n",
        "\n",
        "  plt.title(title)\n",
        "  for i, x in enumerate(plot_data):\n",
        "    if i :\n",
        "      plt.plot(future, plot_data[i], marker[i], markersize=10, label=labels[i])\n",
        "    else :\n",
        "      plt.plot(time_steps, plot_data[i].flatten(), marker[i], label=labels[i])\n",
        "    plt.legend()\n",
        "    plt.axis('auto')\n",
        "    plt.xlim([time_steps[0], (future+5)*2])\n",
        "    plt.xlabel('Time-Step')\n",
        "    return plt"
      ],
      "metadata": {
        "id": "B7mehA-VIDNQ"
      },
      "execution_count": null,
      "outputs": []
    },
    {
      "cell_type": "markdown",
      "source": [
        "###BASELINE 모델 그래프"
      ],
      "metadata": {
        "id": "9DHGmUq8Pnt_"
      }
    },
    {
      "cell_type": "code",
      "source": [
        "####회귀모델의 베이스라인 모델 = MAE값\n",
        "def baseline(history):\n",
        "  return np.mean(history)"
      ],
      "metadata": {
        "id": "_4v4FaKSkcyj"
      },
      "execution_count": null,
      "outputs": []
    },
    {
      "cell_type": "code",
      "source": [
        "#plot data값 지정\n",
        "b=[x_train_uni[0], y_train_uni[0], baseline(x_train_uni[0])]\n",
        "b"
      ],
      "metadata": {
        "colab": {
          "base_uri": "https://localhost:8080/"
        },
        "id": "R_v1sB3tVBfv",
        "outputId": "f4531441-288b-4b5a-f1a9-70c9d2962843"
      },
      "execution_count": null,
      "outputs": [
        {
          "output_type": "execute_result",
          "data": {
            "text/plain": [
              "[array([[-1.30281798],\n",
              "        [-1.45833062],\n",
              "        [-1.43311235],\n",
              "        [-1.45973163],\n",
              "        [-1.28180276],\n",
              "        [-0.70178266],\n",
              "        [ 0.65580063],\n",
              "        [ 1.94333319],\n",
              "        [ 2.0680235 ],\n",
              "        [ 1.40954657],\n",
              "        [ 0.95281576],\n",
              "        [ 0.74266355],\n",
              "        [ 0.46946567],\n",
              "        [ 0.65860266],\n",
              "        [ 0.75106964],\n",
              "        [ 0.80570921],\n",
              "        [ 0.7762879 ],\n",
              "        [ 1.0424807 ],\n",
              "        [ 0.66280571],\n",
              "        [ 0.30414593],\n",
              "        [-0.06712298],\n",
              "        [-0.20442242],\n",
              "        [-0.60090959],\n",
              "        [-0.88531559]]), -1.3000159524469324, 0.16030841808293905]"
            ]
          },
          "metadata": {},
          "execution_count": 22
        }
      ]
    },
    {
      "cell_type": "code",
      "source": [
        "#def show_plot(plot_data, delta, title):\n",
        "#([x_train_uni[0], y_train_uni[0], baseline(x_train_uni[0])]\n",
        "labels = ['History', 'True Future', 'Model Prediction']\n",
        "marker = ['.-', 'rx', 'go']\n",
        "time_steps = create_time_steps(b[0].shape[0])\n",
        "arr=[]\n",
        "\n",
        "True_F = b[1]\n",
        "Model_P = b[2]\n",
        "\n",
        "if 0:\n",
        "  future = 0\n",
        "else:\n",
        "  future = 0\n",
        "\n",
        "plt.title(\"BASELINE\")\n",
        "for i, x in enumerate(b):\n",
        "  if i == 1 :\n",
        "    b[i]=uni_data[24]\n",
        "    plt.plot(future, b[i], marker[i], markersize=10, label=labels[i])\n",
        "    print(b[1])\n",
        "  elif i == 2 :\n",
        "    b[i]=(Model_P * b[1]) / True_F\n",
        "    plt.plot(future, b[i], marker[i], markersize=10, label=labels[i])\n",
        "    print(b[2])\n",
        "  else :\n",
        "    for j in range(TRAIN_SPLIT,TRAIN_SPLIT+24):\n",
        "      arr.append(uni_data[j])\n",
        "    for k in range(0,24):\n",
        "      b[0][k]=arr[k]\n",
        "    plt.plot(time_steps, b[i].flatten(), marker[i], label=labels[i])\n",
        "  plt.legend()\n",
        "  plt.axis('auto')\n",
        "  plt.xlim([time_steps[0], (future+2)*2])\n",
        "  TIME=time_steps\n",
        "  values = ['0','1','2','3','4','5','6','7','8','9','10','11','12','13','14','15','16','17','18','19','20','21','22','23','24'] \n",
        "  plt.xticks(TIME,values,fontsize=8)\n",
        "  plt.gca().spines['top'].set_visible(False)\n",
        "  plt.gca().spines['right'].set_visible(False)\n",
        "  plt.ylabel('population')\n",
        "  plt.xlabel('Time-Step')"
      ],
      "metadata": {
        "colab": {
          "base_uri": "https://localhost:8080/",
          "height": 331
        },
        "id": "-suDsdVgHMaC",
        "outputId": "d204bd6f-f20c-4db1-a25e-111d7ec6d4a8"
      },
      "execution_count": null,
      "outputs": [
        {
          "output_type": "stream",
          "name": "stdout",
          "text": [
            "-1.3000159524469324\n",
            "0.16030841808293905\n"
          ]
        },
        {
          "output_type": "display_data",
          "data": {
            "text/plain": [
              "<Figure size 432x288 with 1 Axes>"
            ],
            "image/png": "[encoded data removed]"
          },
          "metadata": {
            "needs_background": "light"
          }
        }
      ]
    },
    {
      "cell_type": "markdown",
      "source": [
        "#LSTM 모델제작"
      ],
      "metadata": {
        "id": "uwYinvN1HOfy"
      }
    },
    {
      "cell_type": "code",
      "source": [
        "train_univariate=tf.data.Dataset.from_tensor_slices((x_train_uni, y_train_uni))"
      ],
      "metadata": {
        "id": "nVUnSvWCHQ8s"
      },
      "execution_count": null,
      "outputs": []
    },
    {
      "cell_type": "code",
      "source": [
        "BATCH_SIZE = 256\n",
        "BUFFER_SIZE=10000\n",
        "\n",
        "train_univariate = tf.data.Dataset.from_tensor_slices((x_train_uni, y_train_uni))\n",
        "train_univariate = train_univariate.cache().shuffle(BUFFER_SIZE).batch(BATCH_SIZE).repeat()\n",
        "\n",
        "val_univariate = tf.data.Dataset.from_tensor_slices((x_val_uni, y_val_uni))\n",
        "val_univariate = val_univariate.batch(BATCH_SIZE).repeat()"
      ],
      "metadata": {
        "id": "FK_IL9MYHXn9"
      },
      "execution_count": null,
      "outputs": []
    },
    {
      "cell_type": "code",
      "source": [
        "#귀찮아서 단일신경망으로 제작\n",
        "simple_lstm_model = tf.keras.models.Sequential([\n",
        "    tf.keras.layers.LSTM(9, input_shape = x_train_uni.shape[-2:]), tf.keras.layers.Dense(1)\n",
        "])\n",
        "simple_lstm_model.summary()\n",
        "simple_lstm_model.compile(optimizer='adam', loss='mae')"
      ],
      "metadata": {
        "id": "uFRUG3JpHx8c",
        "colab": {
          "base_uri": "https://localhost:8080/"
        },
        "outputId": "2d5b272d-c3b6-4fb0-95d6-8681e6ad35bf"
      },
      "execution_count": null,
      "outputs": [
        {
          "output_type": "stream",
          "name": "stdout",
          "text": [
            "Model: \"sequential\"\n",
            "_________________________________________________________________\n",
            " Layer (type)                Output Shape              Param #   \n",
            "=================================================================\n",
            " lstm (LSTM)                 (None, 9)                 396       \n",
            "                                                                 \n",
            " dense (Dense)               (None, 1)                 10        \n",
            "                                                                 \n",
            "=================================================================\n",
            "Total params: 406\n",
            "Trainable params: 406\n",
            "Non-trainable params: 0\n",
            "_________________________________________________________________\n"
          ]
        }
      ]
    },
    {
      "cell_type": "code",
      "source": [
        "## 24시간씩 1개의 특성(차량이동)으로 분할하여 학습\n",
        "for x, y in val_univariate.take(1):\n",
        "  print(simple_lstm_model.predict(x).shape)"
      ],
      "metadata": {
        "colab": {
          "base_uri": "https://localhost:8080/"
        },
        "id": "_OH4a_lEHzGh",
        "outputId": "4092638f-7ce9-499e-b889-3db8a78560f4"
      },
      "execution_count": null,
      "outputs": [
        {
          "output_type": "stream",
          "name": "stdout",
          "text": [
            "1/1 [==============================] - 5s 5s/step\n",
            "(24, 1)\n"
          ]
        }
      ]
    },
    {
      "cell_type": "code",
      "source": [
        "EVALUATION_INTERVAL = 200\n",
        "EPOCHS = 30\n",
        "\n",
        "f1=simple_lstm_model.fit(train_univariate,\n",
        "                      epochs=EPOCHS,\n",
        "                      steps_per_epoch = EVALUATION_INTERVAL,\n",
        "                      validation_data = val_univariate,\n",
        "                      validation_steps = 50)"
      ],
      "metadata": {
        "colab": {
          "base_uri": "https://localhost:8080/"
        },
        "id": "bpoWJ2mVH0l4",
        "outputId": "a42923f0-3a45-4748-9a93-c40c43a70e0f"
      },
      "execution_count": null,
      "outputs": [
        {
          "output_type": "stream",
          "name": "stdout",
          "text": [
            "Epoch 1/30\n",
            "200/200 [==============================] - 2s 8ms/step - loss: 0.0967 - val_loss: 0.0654\n",
            "Epoch 2/30\n",
            "200/200 [==============================] - 2s 9ms/step - loss: 0.0959 - val_loss: 0.0660\n",
            "Epoch 3/30\n",
            "200/200 [==============================] - 1s 5ms/step - loss: 0.0948 - val_loss: 0.0638\n",
            "Epoch 4/30\n",
            "200/200 [==============================] - 1s 5ms/step - loss: 0.0941 - val_loss: 0.0655\n",
            "Epoch 5/30\n",
            "200/200 [==============================] - 1s 5ms/step - loss: 0.0934 - val_loss: 0.0659\n",
            "Epoch 6/30\n",
            "200/200 [==============================] - 1s 5ms/step - loss: 0.0930 - val_loss: 0.0633\n",
            "Epoch 7/30\n",
            "200/200 [==============================] - 1s 5ms/step - loss: 0.0918 - val_loss: 0.0647\n",
            "Epoch 8/30\n",
            "200/200 [==============================] - 1s 5ms/step - loss: 0.0913 - val_loss: 0.0621\n",
            "Epoch 9/30\n",
            "200/200 [==============================] - 1s 5ms/step - loss: 0.0906 - val_loss: 0.0634\n",
            "Epoch 10/30\n",
            "200/200 [==============================] - 1s 5ms/step - loss: 0.0899 - val_loss: 0.0656\n",
            "Epoch 11/30\n",
            "200/200 [==============================] - 1s 5ms/step - loss: 0.0890 - val_loss: 0.0663\n",
            "Epoch 12/30\n",
            "200/200 [==============================] - 1s 5ms/step - loss: 0.0886 - val_loss: 0.0672\n",
            "Epoch 13/30\n",
            "200/200 [==============================] - 1s 5ms/step - loss: 0.0882 - val_loss: 0.0667\n",
            "Epoch 14/30\n",
            "200/200 [==============================] - 1s 5ms/step - loss: 0.0876 - val_loss: 0.0689\n",
            "Epoch 15/30\n",
            "200/200 [==============================] - 1s 5ms/step - loss: 0.0870 - val_loss: 0.0709\n",
            "Epoch 16/30\n",
            "200/200 [==============================] - 1s 5ms/step - loss: 0.0868 - val_loss: 0.0712\n",
            "Epoch 17/30\n",
            "200/200 [==============================] - 1s 5ms/step - loss: 0.0863 - val_loss: 0.0722\n",
            "Epoch 18/30\n",
            "200/200 [==============================] - 1s 5ms/step - loss: 0.0859 - val_loss: 0.0720\n",
            "Epoch 19/30\n",
            "200/200 [==============================] - 1s 5ms/step - loss: 0.0859 - val_loss: 0.0723\n",
            "Epoch 20/30\n",
            "200/200 [==============================] - 1s 5ms/step - loss: 0.0854 - val_loss: 0.0756\n",
            "Epoch 21/30\n",
            "200/200 [==============================] - 1s 5ms/step - loss: 0.0849 - val_loss: 0.0740\n",
            "Epoch 22/30\n",
            "200/200 [==============================] - 1s 5ms/step - loss: 0.0847 - val_loss: 0.0753\n",
            "Epoch 23/30\n",
            "200/200 [==============================] - 1s 5ms/step - loss: 0.0845 - val_loss: 0.0741\n",
            "Epoch 24/30\n",
            "200/200 [==============================] - 1s 5ms/step - loss: 0.0843 - val_loss: 0.0759\n",
            "Epoch 25/30\n",
            "200/200 [==============================] - 1s 5ms/step - loss: 0.0839 - val_loss: 0.0765\n",
            "Epoch 26/30\n",
            "200/200 [==============================] - 1s 5ms/step - loss: 0.0836 - val_loss: 0.0754\n",
            "Epoch 27/30\n",
            "200/200 [==============================] - 1s 5ms/step - loss: 0.0837 - val_loss: 0.0756\n",
            "Epoch 28/30\n",
            "200/200 [==============================] - 1s 5ms/step - loss: 0.0832 - val_loss: 0.0750\n",
            "Epoch 29/30\n",
            "200/200 [==============================] - 1s 5ms/step - loss: 0.0829 - val_loss: 0.0756\n",
            "Epoch 30/30\n",
            "200/200 [==============================] - 1s 5ms/step - loss: 0.0829 - val_loss: 0.0757\n"
          ]
        }
      ]
    },
    {
      "cell_type": "markdown",
      "source": [
        "#####여기아래는 다른 회귀모델 그냥 궁금해서 넣어논거임"
      ],
      "metadata": {
        "id": "UeUhQBqYk1db"
      }
    },
    {
      "cell_type": "code",
      "source": [
        "from keras.layers import RNN\n",
        "model = Sequential()\n",
        "model.add(Dense(9, activation = 'relu', input_shape = x_train_uni.shape[-2:]))\n",
        "model.add(Dense(1))\n",
        "model.summary()\n",
        "model.compile(optimizer='adam', loss='mae')"
      ],
      "metadata": {
        "colab": {
          "base_uri": "https://localhost:8080/"
        },
        "id": "RSNcexWKCvwW",
        "outputId": "f0ec85dd-6a31-455e-aefd-faa6038a2edf"
      },
      "execution_count": null,
      "outputs": [
        {
          "output_type": "stream",
          "name": "stdout",
          "text": [
            "Model: \"sequential_1\"\n",
            "_________________________________________________________________\n",
            " Layer (type)                Output Shape              Param #   \n",
            "=================================================================\n",
            " dense_1 (Dense)             (None, 24, 9)             18        \n",
            "                                                                 \n",
            " dense_2 (Dense)             (None, 24, 1)             10        \n",
            "                                                                 \n",
            "=================================================================\n",
            "Total params: 28\n",
            "Trainable params: 28\n",
            "Non-trainable params: 0\n",
            "_________________________________________________________________\n"
          ]
        }
      ]
    },
    {
      "cell_type": "code",
      "source": [
        "EVALUATION_INTERVAL = 200\n",
        "EPOCHS = 10\n",
        "\n",
        "f2=model.fit(train_univariate,\n",
        "                      epochs=EPOCHS,\n",
        "                      steps_per_epoch = EVALUATION_INTERVAL,\n",
        "                      validation_data = val_univariate,\n",
        "                      validation_steps = 50)"
      ],
      "metadata": {
        "colab": {
          "base_uri": "https://localhost:8080/"
        },
        "id": "JlAxUOhVCvnJ",
        "outputId": "270d45fa-1dd5-42e6-c6d5-158a2a7548fb"
      },
      "execution_count": null,
      "outputs": [
        {
          "output_type": "stream",
          "name": "stdout",
          "text": [
            "Epoch 1/10\n",
            "200/200 [==============================] - 1s 4ms/step - loss: 0.9045 - val_loss: 0.8003\n",
            "Epoch 2/10\n",
            "200/200 [==============================] - 1s 4ms/step - loss: 0.8981 - val_loss: 0.8009\n",
            "Epoch 3/10\n",
            "200/200 [==============================] - 1s 4ms/step - loss: 0.8978 - val_loss: 0.8001\n",
            "Epoch 4/10\n",
            "200/200 [==============================] - 1s 4ms/step - loss: 0.8979 - val_loss: 0.8007\n",
            "Epoch 5/10\n",
            "200/200 [==============================] - 1s 4ms/step - loss: 0.8978 - val_loss: 0.8007\n",
            "Epoch 6/10\n",
            "200/200 [==============================] - 1s 4ms/step - loss: 0.8980 - val_loss: 0.8009\n",
            "Epoch 7/10\n",
            "200/200 [==============================] - 1s 4ms/step - loss: 0.8976 - val_loss: 0.8020\n",
            "Epoch 8/10\n",
            "200/200 [==============================] - 1s 4ms/step - loss: 0.8982 - val_loss: 0.8012\n",
            "Epoch 9/10\n",
            "200/200 [==============================] - 1s 4ms/step - loss: 0.8976 - val_loss: 0.8010\n",
            "Epoch 10/10\n",
            "200/200 [==============================] - 1s 4ms/step - loss: 0.8978 - val_loss: 0.8017\n"
          ]
        }
      ]
    },
    {
      "cell_type": "code",
      "source": [
        "model2 = tf.keras.Sequential([tf.keras.layers.SimpleRNN(units=9,return_sequences=False,\n",
        "                                                    input_shape = x_train_uni.shape[-2:]),\n",
        "                                                    tf.keras.layers.Dense(1)])\n",
        "model2.compile(optimizer='adam', loss='mse')\n",
        "f3 = model.fit(train_univariate,\n",
        "                      epochs=EPOCHS,\n",
        "                      steps_per_epoch = EVALUATION_INTERVAL,\n",
        "                      validation_data = val_univariate,\n",
        "                      validation_steps = 50)"
      ],
      "metadata": {
        "colab": {
          "base_uri": "https://localhost:8080/"
        },
        "id": "yJfyPH9KCvaq",
        "outputId": "94b5a4e8-c108-465e-a51a-9468042bf122"
      },
      "execution_count": null,
      "outputs": [
        {
          "output_type": "stream",
          "name": "stdout",
          "text": [
            "Epoch 1/10\n",
            "200/200 [==============================] - 1s 3ms/step - loss: 0.8980 - val_loss: 0.8014\n",
            "Epoch 2/10\n",
            "200/200 [==============================] - 1s 4ms/step - loss: 0.8976 - val_loss: 0.8011\n",
            "Epoch 3/10\n",
            "200/200 [==============================] - 1s 4ms/step - loss: 0.8978 - val_loss: 0.8008\n",
            "Epoch 4/10\n",
            "200/200 [==============================] - 1s 4ms/step - loss: 0.8977 - val_loss: 0.8014\n",
            "Epoch 5/10\n",
            "200/200 [==============================] - 1s 4ms/step - loss: 0.8977 - val_loss: 0.8009\n",
            "Epoch 6/10\n",
            "200/200 [==============================] - 1s 4ms/step - loss: 0.8979 - val_loss: 0.8015\n",
            "Epoch 7/10\n",
            "200/200 [==============================] - 1s 4ms/step - loss: 0.8977 - val_loss: 0.8015\n",
            "Epoch 8/10\n",
            "185/200 [==========================>...] - ETA: 0s - loss: 0.8980"
          ]
        }
      ]
    },
    {
      "cell_type": "code",
      "source": [
        "#결과를 그래프로 표현하는 부분입니다.\n",
        "lstm= f1.history['loss']\n",
        "dense = f2.history['loss']\n",
        "rnn = f3.history['loss']\n",
        "\n",
        "x_len = np.arange(len(rnn))  \n",
        "\n",
        "plt.figure(figsize=(8, 5))\n",
        "plt.plot(x_len, lstm, marker='.', c=\"red\", label='LSTM_loss')\n",
        "plt.plot(x_len, dense, marker='.', c=\"blue\", label='Dense_loss')\n",
        "plt.plot(x_len, rnn, marker='.', c=\"green\", label='RNN_loss')\n",
        "\n",
        "plt.legend(loc='right') \n",
        "plt.grid()\n",
        "plt.xlabel('epoch')\n",
        "plt.ylabel('loss')\n",
        "plt.show()"
      ],
      "metadata": {
        "colab": {
          "base_uri": "https://localhost:8080/",
          "height": 334
        },
        "id": "SQhCO8WqCb7z",
        "outputId": "ea4f2d98-a318-4166-9949-a3a0a8b4617b"
      },
      "execution_count": null,
      "outputs": [
        {
          "output_type": "display_data",
          "data": {
            "text/plain": [
              "<Figure size 576x360 with 1 Axes>"
            ],
            "image/png": "[encoded data removed]"
          },
          "metadata": {
            "needs_background": "light"
          }
        }
      ]
    },
    {
      "cell_type": "code",
      "source": [
        "#결과를 그래프로 표현하는 부분\n",
        "y_vloss = f1.history['val_loss']\n",
        "y_loss = f1.history['loss']\n",
        "\n",
        "x_len = np.arange(len(y_loss))  \n",
        "\n",
        "plt.figure(figsize=(8, 5))\n",
        "plt.plot(x_len, y_vloss, marker='.', c=\"green\", label='Testset_loss')\n",
        "plt.plot(x_len, y_loss, marker='.', c=\"blue\", label='Trainset_loss')\n",
        "\n",
        "plt.legend(loc='right') \n",
        "plt.grid()\n",
        "plt.xlabel('epoch')\n",
        "plt.ylabel('loss')\n",
        "plt.show()"
      ],
      "metadata": {
        "colab": {
          "base_uri": "https://localhost:8080/",
          "height": 334
        },
        "id": "l2II_dWPH1xl",
        "outputId": "353b93ce-6059-4157-94e2-1637e2935e1d"
      },
      "execution_count": null,
      "outputs": [
        {
          "output_type": "display_data",
          "data": {
            "text/plain": [
              "<Figure size 576x360 with 1 Axes>"
            ],
            "image/png": "[encoded data removed]"
          },
          "metadata": {
            "needs_background": "light"
          }
        }
      ]
    },
    {
      "cell_type": "code",
      "source": [
        "for x, y in val_univariate.take(3):\n",
        "  plot = show_plot([x[0].numpy(), y[0].numpy(), simple_lstm_model.predict(x)[0]], 0, 'Simple LSTM model')\n",
        "  plot.show()"
      ],
      "metadata": {
        "colab": {
          "base_uri": "https://localhost:8080/",
          "height": 906
        },
        "id": "kFDZ2uleH3IQ",
        "outputId": "5b9060a9-d934-4ddb-f178-c1bb46a9b847"
      },
      "execution_count": null,
      "outputs": [
        {
          "output_type": "stream",
          "name": "stdout",
          "text": [
            "1/1 [==============================] - 0s 20ms/step\n"
          ]
        },
        {
          "output_type": "display_data",
          "data": {
            "text/plain": [
              "<Figure size 432x288 with 1 Axes>"
            ],
            "image/png": "[encoded data removed]"
          },
          "metadata": {
            "needs_background": "light"
          }
        },
        {
          "output_type": "stream",
          "name": "stdout",
          "text": [
            "1/1 [==============================] - 0s 21ms/step\n"
          ]
        },
        {
          "output_type": "display_data",
          "data": {
            "text/plain": [
              "<Figure size 432x288 with 1 Axes>"
            ],
            "image/png": "[encoded data removed]"
          },
          "metadata": {
            "needs_background": "light"
          }
        },
        {
          "output_type": "stream",
          "name": "stdout",
          "text": [
            "1/1 [==============================] - 0s 16ms/step\n"
          ]
        },
        {
          "output_type": "display_data",
          "data": {
            "text/plain": [
              "<Figure size 432x288 with 1 Axes>"
            ],
            "image/png": "[encoded data removed]"
          },
          "metadata": {
            "needs_background": "light"
          }
        }
      ]
    },
    {
      "cell_type": "markdown",
      "source": [
        "###여기서부터 반드시 실행해야 그래프 잘나옴"
      ],
      "metadata": {
        "id": "_Se1J3lnk-xT"
      }
    },
    {
      "cell_type": "code",
      "source": [
        "a = simple_lstm_model.predict(x)\n",
        "a = [x[0].numpy(), y[0].numpy(), a[0]]\n",
        "a"
      ],
      "metadata": {
        "colab": {
          "base_uri": "https://localhost:8080/"
        },
        "id": "tPHy1EQEH8Lp",
        "outputId": "0125266c-66dd-4297-9158-c9480b22848a"
      },
      "execution_count": null,
      "outputs": [
        {
          "output_type": "stream",
          "name": "stdout",
          "text": [
            "1/1 [==============================] - 0s 18ms/step\n"
          ]
        },
        {
          "output_type": "execute_result",
          "data": {
            "text/plain": [
              "[array([[-1.21315304],\n",
              "        [-1.30562001],\n",
              "        [-1.41209713],\n",
              "        [-1.44852352],\n",
              "        [-1.44291946],\n",
              "        [-1.32523422],\n",
              "        [-1.10107186],\n",
              "        [-0.89372168],\n",
              "        [-0.59670655],\n",
              "        [-0.42298072],\n",
              "        [-0.08673718],\n",
              "        [-0.03630065],\n",
              "        [ 0.25651143],\n",
              "        [ 0.37419667],\n",
              "        [ 0.37980073],\n",
              "        [ 0.3013439 ],\n",
              "        [ 0.25931346],\n",
              "        [ 0.00152675],\n",
              "        [-0.25766098],\n",
              "        [-0.47481827],\n",
              "        [-0.51965074],\n",
              "        [-0.69337657],\n",
              "        [-1.03662518],\n",
              "        [-1.15711245]]),\n",
              " -1.1683205662974525,\n",
              " array([-1.2817124], dtype=float32)]"
            ]
          },
          "metadata": {},
          "execution_count": 60
        }
      ]
    },
    {
      "cell_type": "code",
      "source": [
        "uni_data = df['Trafic']\n",
        "uni_data.index = df['Trafic']\n",
        "uni_data.head()"
      ],
      "metadata": {
        "colab": {
          "base_uri": "https://localhost:8080/"
        },
        "id": "quXE60ZGIYDW",
        "outputId": "4fbb1b76-17bf-45a7-acbd-375e6ce96bb6"
      },
      "execution_count": null,
      "outputs": [
        {
          "output_type": "execute_result",
          "data": {
            "text/plain": [
              "Trafic\n",
              "209    209\n",
              "98      98\n",
              "116    116\n",
              "97      97\n",
              "224    224\n",
              "Name: Trafic, dtype: int64"
            ]
          },
          "metadata": {},
          "execution_count": 61
        }
      ]
    },
    {
      "cell_type": "code",
      "source": [
        "uni_data = uni_data.values"
      ],
      "metadata": {
        "id": "jtecUPeNg7v3"
      },
      "execution_count": null,
      "outputs": []
    },
    {
      "cell_type": "code",
      "source": [
        "def create_time_steps(length):\n",
        "  return list(range(-length, 0))"
      ],
      "metadata": {
        "id": "GsbJDzlYxqXw"
      },
      "execution_count": null,
      "outputs": []
    },
    {
      "cell_type": "code",
      "source": [
        "#def show_plot(plot_data, delta, title):\n",
        "labels = ['True_History', 'True Future', 'Model_Prediction']\n",
        "marker = ['.-', 'rx', 'go']\n",
        "time_steps = create_time_steps(a[0].shape[0])\n",
        "arr=[]\n",
        "\n",
        "True_F = a[1]\n",
        "Model_P = a[2]\n",
        "\n",
        "if 0:\n",
        "    future = 0\n",
        "else:\n",
        "  future = 0\n",
        "\n",
        "plt.title(\"Trafic model\")\n",
        "for i, x in enumerate(a):\n",
        "  if i == 1 :\n",
        "    a[i]=uni_data[TRAIN_SPLIT+17]\n",
        "    #plt.plot(-3, a[i], marker[i], markersize=10, label=labels[i])\n",
        "    print(a[1])\n",
        "  elif i == 2 :\n",
        "    a[i]=(Model_P * a[1]) / True_F\n",
        "    plt.plot(-7, a[i], marker[i], markersize=10, label=labels[i])\n",
        "    print(a[2])\n",
        "  else :\n",
        "    for j in range(TRAIN_SPLIT,TRAIN_SPLIT+24):\n",
        "      arr.append(uni_data[j])\n",
        "    for k in range(0,24):\n",
        "      a[0][k]=arr[k]\n",
        "    plt.plot(time_steps , a[i].flatten(), marker[i], label=labels[i])\n",
        "  plt.legend()\n",
        "  plt.axis('auto')\n",
        "  plt.xlim([time_steps[0], (future+2)*2])\n",
        "  TIME=time_steps\n",
        "  values = ['0','1','2','3','4','5','6','7','8','9','10','11','12','13','14','15','16','17','18','19','20','21','22','23','24'] \n",
        "  plt.xticks(TIME,values,fontsize=8)\n",
        "  plt.gca().spines['top'].set_visible(False)\n",
        "  plt.gca().spines['right'].set_visible(False)\n",
        "  plt.ylabel('population')\n",
        "  plt.xlabel('Time-Step')"
      ],
      "metadata": {
        "id": "W_FDdmtAIPi3",
        "colab": {
          "base_uri": "https://localhost:8080/",
          "height": 331
        },
        "outputId": "ba520006-cd3e-4d22-9456-4f7f4a6dc45a"
      },
      "execution_count": null,
      "outputs": [
        {
          "output_type": "stream",
          "name": "stdout",
          "text": [
            "1140\n",
            "[1250.6432]\n"
          ]
        },
        {
          "output_type": "display_data",
          "data": {
            "text/plain": [
              "<Figure size 432x288 with 1 Axes>"
            ],
            "image/png": "[encoded data removed]"
          },
          "metadata": {
            "needs_background": "light"
          }
        }
      ]
    },
    {
      "cell_type": "code",
      "source": [
        "k=abs(a[1]-a[2][0])\n",
        "result=(k/a[1])*100\n",
        "print(\"오차율:\",result)"
      ],
      "metadata": {
        "colab": {
          "base_uri": "https://localhost:8080/"
        },
        "id": "LWLzNohplMmI",
        "outputId": "244b956b-3a46-4b1a-c401-a8d9e28edfaa"
      },
      "execution_count": null,
      "outputs": [
        {
          "output_type": "stream",
          "name": "stdout",
          "text": [
            "오차율: 9.705542848821272\n"
          ]
        }
      ]
    }
  ]
}