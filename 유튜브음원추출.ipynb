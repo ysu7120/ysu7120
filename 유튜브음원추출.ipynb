{
  "nbformat": 4,
  "nbformat_minor": 0,
  "metadata": {
    "colab": {
      "provenance": [],
      "mount_file_id": "1AuGaKplGMtOEEfrItHWTKqJoSyrnPsm7",
      "authorship_tag": "ABX9TyPBVOaIdWb8k90SB6eB4Mgl",
      "include_colab_link": true
    },
    "kernelspec": {
      "name": "python3",
      "display_name": "Python 3"
    },
    "language_info": {
      "name": "python"
    }
  },
  "cells": [
    {
      "cell_type": "markdown",
      "metadata": {
        "id": "view-in-github",
        "colab_type": "text"
      },
      "source": [
        "<a href=\"https://colab.research.google.com/github/ysu7120/ysu7120/blob/code-study/%EC%9C%A0%ED%8A%9C%EB%B8%8C%EC%9D%8C%EC%9B%90%EC%B6%94%EC%B6%9C.ipynb\" target=\"_parent\"><img src=\"https://colab.research.google.com/assets/colab-badge.svg\" alt=\"Open In Colab\"/></a>"
      ]
    },
    {
      "cell_type": "code",
      "execution_count": null,
      "metadata": {
        "colab": {
          "base_uri": "https://localhost:8080/"
        },
        "id": "FCv6O6uIDbuG",
        "outputId": "e98f068a-d3a3-4c44-d1e1-6644e7e8709b"
      },
      "outputs": [
        {
          "output_type": "stream",
          "name": "stdout",
          "text": [
            "Looking in indexes: https://pypi.org/simple, https://us-python.pkg.dev/colab-wheels/public/simple/\n",
            "Collecting pytube\n",
            "  Downloading pytube-12.1.2-py3-none-any.whl (57 kB)\n",
            "\u001b[2K     \u001b[90m━━━━━━━━━━━━━━━━━━━━━━━━━━━━━━━━━━━━━━━━\u001b[0m \u001b[32m57.0/57.0 KB\u001b[0m \u001b[31m1.6 MB/s\u001b[0m eta \u001b[36m0:00:00\u001b[0m\n",
            "\u001b[?25hInstalling collected packages: pytube\n",
            "Successfully installed pytube-12.1.2\n"
          ]
        }
      ],
      "source": [
        "pip install pytube"
      ]
    },
    {
      "cell_type": "code",
      "source": [
        "from pytube import YouTube\n",
        "import glob\n",
        "import os.path\n",
        "\n",
        "#유튜브 전용 인스턴스 생성\n",
        "par = \"https://www.youtube.com/watch?v=EaC8Dgtvrb0&list=RDEaC8Dgtvrb0&start_radio=1\"\n",
        "yt = YouTube(par)\n",
        "yt.streams.filter(only_audio=True).all()\n",
        "\n",
        "# 특정영상 다운로드\n",
        "yt.streams.filter(only_audio=True).first().download()\n",
        "print('success')\n",
        "\n",
        "# 확장자 변경\n",
        "files = glob.glob(\"*.mp4\")\n",
        "for x in files:\n",
        "\tif not os.path.isdir(x):\n",
        "\t\tfilename = os.path.splitext(x)\n",
        "\t\ttry:\n",
        "\t\t\tos.rename(x,filename[0] + '.mp3')\n",
        "\t\texcept:\n",
        "\t\t\tpass"
      ],
      "metadata": {
        "colab": {
          "base_uri": "https://localhost:8080/"
        },
        "id": "B5uf60vCDmW6",
        "outputId": "7ed73721-fbdf-4dc1-a567-cfa99d770128"
      },
      "execution_count": null,
      "outputs": [
        {
          "output_type": "stream",
          "name": "stderr",
          "text": [
            "<ipython-input-3-035c260f2948>:8: DeprecationWarning: Call to deprecated function all (This object can be treated as a list, all() is useless).\n",
            "  yt.streams.filter(only_audio=True).all()\n"
          ]
        },
        {
          "output_type": "stream",
          "name": "stdout",
          "text": [
            "success\n"
          ]
        }
      ]
    },
    {
      "cell_type": "code",
      "source": [
        "# call lib\n",
        "from tkinter import *\n",
        "from tkinter import messagebox\n",
        "from pytube import YouTube\n",
        "import glob\n",
        "import os.path\n",
        "\n",
        "# set\n",
        "root = Tk()\n",
        "root.title(\"converter\")\n",
        "root.geometry(\"500x300\")\n",
        "root.resizable(False, False)\n",
        "\n",
        "#convert\n",
        "def convert():\n",
        "\t#유튜브 전용 인스턴스 생성\n",
        "\tpar = lnk.get()\n",
        "\tprint(par)\n",
        "\n",
        "\tyt = YouTube(par)\n",
        "\n",
        "\tprint(\"start!\")\n",
        "\tif(Radiovar.get() == 1):\n",
        "\t\tprint(\"type: mp4\")\n",
        "\t\tyt.streams.filter().all()\n",
        "\t\tyt.streams.filter().first().download() \n",
        "\telse:\n",
        "\t\tprint(\"type: mp3\")\n",
        "\t\tyt.streams.filter(only_audio=True).all()\n",
        "\t\tyt.streams.filter(only_audio=True).first().download() \n",
        "\t\tprint(\"success\")\n",
        "\n",
        "\t\tfiles = glob.glob(\"*.mp4\")\n",
        "\t\tfor x in files:\n",
        "\t\t\tif not os.path.isdir(x):\n",
        "\t\t\t\tfilename = os.path.splitext(x)\n",
        "\t\t\t\ttry:\n",
        "\t\t\t\t\tos.rename(x,filename[0] + '.mp3')\n",
        "\t\t\t\texcept:\n",
        "\t\t\t\t\tpass\n",
        "\tmessagebox.showinfo(\"success\",\"converted!\") #메시지 박스를 띄운다.\n",
        "\n",
        "\n",
        "#main\n",
        "lbl = Label(root, text=\"YouTube Converter!\")\n",
        "lbl.pack()\n",
        "\n",
        "lnk = Entry(root)\n",
        "lnk.pack(fill=\"x\")\n",
        "\n",
        "st = StringVar() \n",
        "Radiovar = IntVar() \n",
        "Radio_button1 = Radiobutton(text=\"mp4\",variable=Radiovar,value=1) \n",
        "Radio_button2 = Radiobutton(text=\"mp3(=default)\",variable=Radiovar,value=2)\n",
        "Radio_button1.pack()\n",
        "Radio_button2.pack()\n",
        "\n",
        "place = Label(root, text=\"\\n\")\n",
        "place.pack()\n",
        "\n",
        "btn = Button(root, text=\"convert\",command=convert)\n",
        "btn.pack()\n",
        "root.mainloop()"
      ],
      "metadata": {
        "colab": {
          "base_uri": "https://localhost:8080/",
          "height": 377
        },
        "id": "QY_SOElzEvjB",
        "outputId": "8008e8f5-5138-492c-ad62-32804b91c34d"
      },
      "execution_count": null,
      "outputs": [
        {
          "output_type": "error",
          "ename": "TclError",
          "evalue": "ignored",
          "traceback": [
            "\u001b[0;31m---------------------------------------------------------------------------\u001b[0m",
            "\u001b[0;31mTclError\u001b[0m                                  Traceback (most recent call last)",
            "\u001b[0;32m<ipython-input-5-80535f463a1f>\u001b[0m in \u001b[0;36m<module>\u001b[0;34m\u001b[0m\n\u001b[1;32m      7\u001b[0m \u001b[0;34m\u001b[0m\u001b[0m\n\u001b[1;32m      8\u001b[0m \u001b[0;31m# set\u001b[0m\u001b[0;34m\u001b[0m\u001b[0;34m\u001b[0m\u001b[0m\n\u001b[0;32m----> 9\u001b[0;31m \u001b[0mroot\u001b[0m \u001b[0;34m=\u001b[0m \u001b[0mTk\u001b[0m\u001b[0;34m(\u001b[0m\u001b[0;34m)\u001b[0m\u001b[0;34m\u001b[0m\u001b[0;34m\u001b[0m\u001b[0m\n\u001b[0m\u001b[1;32m     10\u001b[0m \u001b[0mroot\u001b[0m\u001b[0;34m.\u001b[0m\u001b[0mtitle\u001b[0m\u001b[0;34m(\u001b[0m\u001b[0;34m\"converter\"\u001b[0m\u001b[0;34m)\u001b[0m\u001b[0;34m\u001b[0m\u001b[0;34m\u001b[0m\u001b[0m\n\u001b[1;32m     11\u001b[0m \u001b[0mroot\u001b[0m\u001b[0;34m.\u001b[0m\u001b[0mgeometry\u001b[0m\u001b[0;34m(\u001b[0m\u001b[0;34m\"500x300\"\u001b[0m\u001b[0;34m)\u001b[0m\u001b[0;34m\u001b[0m\u001b[0;34m\u001b[0m\u001b[0m\n",
            "\u001b[0;32m/usr/lib/python3.9/tkinter/__init__.py\u001b[0m in \u001b[0;36m__init__\u001b[0;34m(self, screenName, baseName, className, useTk, sync, use)\u001b[0m\n\u001b[1;32m   2268\u001b[0m                 \u001b[0mbaseName\u001b[0m \u001b[0;34m=\u001b[0m \u001b[0mbaseName\u001b[0m \u001b[0;34m+\u001b[0m \u001b[0mext\u001b[0m\u001b[0;34m\u001b[0m\u001b[0;34m\u001b[0m\u001b[0m\n\u001b[1;32m   2269\u001b[0m         \u001b[0minteractive\u001b[0m \u001b[0;34m=\u001b[0m \u001b[0;32mFalse\u001b[0m\u001b[0;34m\u001b[0m\u001b[0;34m\u001b[0m\u001b[0m\n\u001b[0;32m-> 2270\u001b[0;31m         \u001b[0mself\u001b[0m\u001b[0;34m.\u001b[0m\u001b[0mtk\u001b[0m \u001b[0;34m=\u001b[0m \u001b[0m_tkinter\u001b[0m\u001b[0;34m.\u001b[0m\u001b[0mcreate\u001b[0m\u001b[0;34m(\u001b[0m\u001b[0mscreenName\u001b[0m\u001b[0;34m,\u001b[0m \u001b[0mbaseName\u001b[0m\u001b[0;34m,\u001b[0m \u001b[0mclassName\u001b[0m\u001b[0;34m,\u001b[0m \u001b[0minteractive\u001b[0m\u001b[0;34m,\u001b[0m \u001b[0mwantobjects\u001b[0m\u001b[0;34m,\u001b[0m \u001b[0museTk\u001b[0m\u001b[0;34m,\u001b[0m \u001b[0msync\u001b[0m\u001b[0;34m,\u001b[0m \u001b[0muse\u001b[0m\u001b[0;34m)\u001b[0m\u001b[0;34m\u001b[0m\u001b[0;34m\u001b[0m\u001b[0m\n\u001b[0m\u001b[1;32m   2271\u001b[0m         \u001b[0;32mif\u001b[0m \u001b[0museTk\u001b[0m\u001b[0;34m:\u001b[0m\u001b[0;34m\u001b[0m\u001b[0;34m\u001b[0m\u001b[0m\n\u001b[1;32m   2272\u001b[0m             \u001b[0mself\u001b[0m\u001b[0;34m.\u001b[0m\u001b[0m_loadtk\u001b[0m\u001b[0;34m(\u001b[0m\u001b[0;34m)\u001b[0m\u001b[0;34m\u001b[0m\u001b[0;34m\u001b[0m\u001b[0m\n",
            "\u001b[0;31mTclError\u001b[0m: no display name and no $DISPLAY environment variable"
          ]
        }
      ]
    }
  ]
}