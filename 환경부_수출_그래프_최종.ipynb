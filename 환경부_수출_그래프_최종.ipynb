{
  "nbformat": 4,
  "nbformat_minor": 0,
  "metadata": {
    "colab": {
      "provenance": [],
      "mount_file_id": "1zQcxKfIGA49Z3crxPE6Sb_BsKCJHvJ2J",
      "authorship_tag": "ABX9TyNRToE5vU7qoxlSQ84fw3Z4",
      "include_colab_link": true
    },
    "kernelspec": {
      "name": "python3",
      "display_name": "Python 3"
    },
    "language_info": {
      "name": "python"
    }
  },
  "cells": [
    {
      "cell_type": "markdown",
      "metadata": {
        "id": "view-in-github",
        "colab_type": "text"
      },
      "source": [
        "<a href=\"https://colab.research.google.com/github/ysu7120/ysu7120/blob/code-study/%ED%99%98%EA%B2%BD%EB%B6%80_%EC%88%98%EC%B6%9C_%EA%B7%B8%EB%9E%98%ED%94%84_%EC%B5%9C%EC%A2%85.ipynb\" target=\"_parent\"><img src=\"https://colab.research.google.com/assets/colab-badge.svg\" alt=\"Open In Colab\"/></a>"
      ]
    },
    {
      "cell_type": "code",
      "execution_count": null,
      "metadata": {
        "id": "SBlBBkEPDzWI"
      },
      "outputs": [],
      "source": [
        "%matplotlib inline\n",
        "import pandas as pd\n",
        "import matplotlib.pyplot as plt\n",
        "import os,sys\n",
        "import numpy as np\n",
        "from keras.layers import *\n",
        "from keras.models import *\n",
        "from keras.utils import *\n",
        "from sklearn.preprocessing import *"
      ]
    },
    {
      "cell_type": "code",
      "source": [
        "df_d = pd.read_csv(\"/content/drive/MyDrive/finalpj_data/환경산업분류별(보호활동) 수출액.csv\", thousands = ',', encoding='utf-8')\n",
        "df_m = pd.read_csv(\"/content/drive/MyDrive/finalpj_data/환경산업분류별(매체별) 수출액.csv\", thousands = ',', encoding='utf-8')"
      ],
      "metadata": {
        "id": "zmJUzdCoD9h_"
      },
      "execution_count": null,
      "outputs": []
    },
    {
      "cell_type": "code",
      "source": [
        "year = ['2012년', '2013년', '2014년', '2015년', '2016년', '2017년', '2018년', '2019년', '2020년']"
      ],
      "metadata": {
        "id": "ZAIwhlXoskoH"
      },
      "execution_count": null,
      "outputs": []
    },
    {
      "cell_type": "code",
      "source": [
        "for y in year :\n",
        "    df_d = pd.read_csv(\"/content/drive/MyDrive/finalpj_data/환경산업분류별(매체별) 수출액.csv\", thousands = ',', encoding='utf-8')\n",
        "    df_d = df_d[df_d['분류.1'] == '소계'][2:]\n",
        "    a = df_d[y]\n",
        "    b = a.sort_values(ascending = False)\n",
        "    index_list = list(b[:3].index)\n",
        "    print(f\"{y} TOP 3\")\n",
        "    for _ in index_list :\n",
        "        print(df_d['분류'][_])\n",
        "    print()"
      ],
      "metadata": {
        "colab": {
          "base_uri": "https://localhost:8080/"
        },
        "id": "Or0kVRhZspm2",
        "outputId": "89f1952c-bd7e-4374-a1a9-9efbe9ff2fe7"
      },
      "execution_count": null,
      "outputs": [
        {
          "output_type": "stream",
          "name": "stdout",
          "text": [
            "2012년 TOP 3\n",
            "물관리\n",
            "환경 지식정보감시\n",
            "환경복원 및 복구\n",
            "\n",
            "2013년 TOP 3\n",
            "물관리\n",
            "환경복원 및 복구\n",
            "환경안전보건\n",
            "\n",
            "2014년 TOP 3\n",
            "환경 지식정보감시\n",
            "환경안전보건\n",
            "지속가능 환경자원\n",
            "\n",
            "2015년 TOP 3\n",
            "물관리\n",
            "환경복원 및 복구\n",
            "지속가능 환경자원\n",
            "\n",
            "2016년 TOP 3\n",
            "물관리\n",
            "환경복원 및 복구\n",
            "지속가능 환경자원\n",
            "\n",
            "2017년 TOP 3\n",
            "물관리\n",
            "환경복원 및 복구\n",
            "지속가능 환경자원\n",
            "\n",
            "2018년 TOP 3\n",
            "물관리\n",
            "지속가능 환경자원\n",
            "환경안전보건\n",
            "\n",
            "2019년 TOP 3\n",
            "물관리\n",
            "지속가능 환경자원\n",
            "환경안전보건\n",
            "\n",
            "2020년 TOP 3\n",
            "물관리\n",
            "지속가능 환경자원\n",
            "환경안전보건\n",
            "\n"
          ]
        }
      ]
    },
    {
      "cell_type": "code",
      "source": [
        "top3 = ['오염관리관련건설업','오염관리관련제조업','자원관리관련제조업']"
      ],
      "metadata": {
        "id": "BKWxLgt0s-zR"
      },
      "execution_count": null,
      "outputs": []
    },
    {
      "cell_type": "code",
      "source": [
        "top_1 = df_d[df_d['분류']== top3[0]]\n",
        "top_2 = df_d[df_d['분류']== top3[1]]\n",
        "top_3 = df_d[df_d['분류']== top3[2]]\n",
        "\n",
        "df = pd.concat([top_1,top_2,top_3])\n",
        "df = df.reset_index()\n",
        "df"
      ],
      "metadata": {
        "colab": {
          "base_uri": "https://localhost:8080/",
          "height": 238
        },
        "id": "0ez3BhlRtHp1",
        "outputId": "2e36917a-a884-47d2-9e38-7feb4e90a7e2"
      },
      "execution_count": null,
      "outputs": [
        {
          "output_type": "execute_result",
          "data": {
            "text/plain": [
              "   index         분류 분류.1        항목  단위 통계자료      2012년      2013년      2014년  \\\n",
              "0     20  오염관리관련건설업   소계       수출액  억원  원자료  355143.99  470296.43  198882.02   \n",
              "1     21  오염관리관련건설업   소계  환경부문 수출액  억원  원자료   32201.18   41522.73   19519.70   \n",
              "2      2  오염관리관련제조업   소계       수출액  억원  원자료  216949.14  312401.55  182835.37   \n",
              "3      3  오염관리관련제조업   소계  환경부문 수출액  억원  원자료   20569.40   12929.26   30036.89   \n",
              "4     64  자원관리관련제조업   소계       수출액  억원  원자료  582326.61   94884.26  155275.48   \n",
              "5     65  자원관리관련제조업   소계  환경부문 수출액  억원  원자료   11908.34   10752.77   15539.47   \n",
              "\n",
              "       2015년      2016년      2017년      2018년      2019년      2020년  \n",
              "0  206557.88  193636.03  242412.20  240656.67  235597.25  239242.04  \n",
              "1   21129.18   21383.37   20159.03   20628.76   18884.17   19379.43  \n",
              "2  179072.27  177525.74  186757.64  233456.84  229708.07  232202.20  \n",
              "3   30213.84   29325.62   28852.00   29222.42   29051.16   29453.64  \n",
              "4  134537.70  126392.27  124474.40  147705.37  145034.28  147335.36  \n",
              "5   15037.23   14095.10   15870.11   15853.41   16428.02   16425.42  "
            ],
            "text/html": [
              "\n",
              "  <div id=\"df-dbe5935f-e26d-48ea-807b-ef89ead12e34\">\n",
              "    <div class=\"colab-df-container\">\n",
              "      <div>\n",
              "<style scoped>\n",
              "    .dataframe tbody tr th:only-of-type {\n",
              "        vertical-align: middle;\n",
              "    }\n",
              "\n",
              "    .dataframe tbody tr th {\n",
              "        vertical-align: top;\n",
              "    }\n",
              "\n",
              "    .dataframe thead th {\n",
              "        text-align: right;\n",
              "    }\n",
              "</style>\n",
              "<table border=\"1\" class=\"dataframe\">\n",
              "  <thead>\n",
              "    <tr style=\"text-align: right;\">\n",
              "      <th></th>\n",
              "      <th>index</th>\n",
              "      <th>분류</th>\n",
              "      <th>분류.1</th>\n",
              "      <th>항목</th>\n",
              "      <th>단위</th>\n",
              "      <th>통계자료</th>\n",
              "      <th>2012년</th>\n",
              "      <th>2013년</th>\n",
              "      <th>2014년</th>\n",
              "      <th>2015년</th>\n",
              "      <th>2016년</th>\n",
              "      <th>2017년</th>\n",
              "      <th>2018년</th>\n",
              "      <th>2019년</th>\n",
              "      <th>2020년</th>\n",
              "    </tr>\n",
              "  </thead>\n",
              "  <tbody>\n",
              "    <tr>\n",
              "      <th>0</th>\n",
              "      <td>20</td>\n",
              "      <td>오염관리관련건설업</td>\n",
              "      <td>소계</td>\n",
              "      <td>수출액</td>\n",
              "      <td>억원</td>\n",
              "      <td>원자료</td>\n",
              "      <td>355143.99</td>\n",
              "      <td>470296.43</td>\n",
              "      <td>198882.02</td>\n",
              "      <td>206557.88</td>\n",
              "      <td>193636.03</td>\n",
              "      <td>242412.20</td>\n",
              "      <td>240656.67</td>\n",
              "      <td>235597.25</td>\n",
              "      <td>239242.04</td>\n",
              "    </tr>\n",
              "    <tr>\n",
              "      <th>1</th>\n",
              "      <td>21</td>\n",
              "      <td>오염관리관련건설업</td>\n",
              "      <td>소계</td>\n",
              "      <td>환경부문 수출액</td>\n",
              "      <td>억원</td>\n",
              "      <td>원자료</td>\n",
              "      <td>32201.18</td>\n",
              "      <td>41522.73</td>\n",
              "      <td>19519.70</td>\n",
              "      <td>21129.18</td>\n",
              "      <td>21383.37</td>\n",
              "      <td>20159.03</td>\n",
              "      <td>20628.76</td>\n",
              "      <td>18884.17</td>\n",
              "      <td>19379.43</td>\n",
              "    </tr>\n",
              "    <tr>\n",
              "      <th>2</th>\n",
              "      <td>2</td>\n",
              "      <td>오염관리관련제조업</td>\n",
              "      <td>소계</td>\n",
              "      <td>수출액</td>\n",
              "      <td>억원</td>\n",
              "      <td>원자료</td>\n",
              "      <td>216949.14</td>\n",
              "      <td>312401.55</td>\n",
              "      <td>182835.37</td>\n",
              "      <td>179072.27</td>\n",
              "      <td>177525.74</td>\n",
              "      <td>186757.64</td>\n",
              "      <td>233456.84</td>\n",
              "      <td>229708.07</td>\n",
              "      <td>232202.20</td>\n",
              "    </tr>\n",
              "    <tr>\n",
              "      <th>3</th>\n",
              "      <td>3</td>\n",
              "      <td>오염관리관련제조업</td>\n",
              "      <td>소계</td>\n",
              "      <td>환경부문 수출액</td>\n",
              "      <td>억원</td>\n",
              "      <td>원자료</td>\n",
              "      <td>20569.40</td>\n",
              "      <td>12929.26</td>\n",
              "      <td>30036.89</td>\n",
              "      <td>30213.84</td>\n",
              "      <td>29325.62</td>\n",
              "      <td>28852.00</td>\n",
              "      <td>29222.42</td>\n",
              "      <td>29051.16</td>\n",
              "      <td>29453.64</td>\n",
              "    </tr>\n",
              "    <tr>\n",
              "      <th>4</th>\n",
              "      <td>64</td>\n",
              "      <td>자원관리관련제조업</td>\n",
              "      <td>소계</td>\n",
              "      <td>수출액</td>\n",
              "      <td>억원</td>\n",
              "      <td>원자료</td>\n",
              "      <td>582326.61</td>\n",
              "      <td>94884.26</td>\n",
              "      <td>155275.48</td>\n",
              "      <td>134537.70</td>\n",
              "      <td>126392.27</td>\n",
              "      <td>124474.40</td>\n",
              "      <td>147705.37</td>\n",
              "      <td>145034.28</td>\n",
              "      <td>147335.36</td>\n",
              "    </tr>\n",
              "    <tr>\n",
              "      <th>5</th>\n",
              "      <td>65</td>\n",
              "      <td>자원관리관련제조업</td>\n",
              "      <td>소계</td>\n",
              "      <td>환경부문 수출액</td>\n",
              "      <td>억원</td>\n",
              "      <td>원자료</td>\n",
              "      <td>11908.34</td>\n",
              "      <td>10752.77</td>\n",
              "      <td>15539.47</td>\n",
              "      <td>15037.23</td>\n",
              "      <td>14095.10</td>\n",
              "      <td>15870.11</td>\n",
              "      <td>15853.41</td>\n",
              "      <td>16428.02</td>\n",
              "      <td>16425.42</td>\n",
              "    </tr>\n",
              "  </tbody>\n",
              "</table>\n",
              "</div>\n",
              "      <button class=\"colab-df-convert\" onclick=\"convertToInteractive('df-dbe5935f-e26d-48ea-807b-ef89ead12e34')\"\n",
              "              title=\"Convert this dataframe to an interactive table.\"\n",
              "              style=\"display:none;\">\n",
              "        \n",
              "  <svg xmlns=\"http://www.w3.org/2000/svg\" height=\"24px\"viewBox=\"0 0 24 24\"\n",
              "       width=\"24px\">\n",
              "    <path d=\"M0 0h24v24H0V0z\" fill=\"none\"/>\n",
              "    <path d=\"M18.56 5.44l.94 2.06.94-2.06 2.06-.94-2.06-.94-.94-2.06-.94 2.06-2.06.94zm-11 1L8.5 8.5l.94-2.06 2.06-.94-2.06-.94L8.5 2.5l-.94 2.06-2.06.94zm10 10l.94 2.06.94-2.06 2.06-.94-2.06-.94-.94-2.06-.94 2.06-2.06.94z\"/><path d=\"M17.41 7.96l-1.37-1.37c-.4-.4-.92-.59-1.43-.59-.52 0-1.04.2-1.43.59L10.3 9.45l-7.72 7.72c-.78.78-.78 2.05 0 2.83L4 21.41c.39.39.9.59 1.41.59.51 0 1.02-.2 1.41-.59l7.78-7.78 2.81-2.81c.8-.78.8-2.07 0-2.86zM5.41 20L4 18.59l7.72-7.72 1.47 1.35L5.41 20z\"/>\n",
              "  </svg>\n",
              "      </button>\n",
              "      \n",
              "  <style>\n",
              "    .colab-df-container {\n",
              "      display:flex;\n",
              "      flex-wrap:wrap;\n",
              "      gap: 12px;\n",
              "    }\n",
              "\n",
              "    .colab-df-convert {\n",
              "      background-color: #E8F0FE;\n",
              "      border: none;\n",
              "      border-radius: 50%;\n",
              "      cursor: pointer;\n",
              "      display: none;\n",
              "      fill: #1967D2;\n",
              "      height: 32px;\n",
              "      padding: 0 0 0 0;\n",
              "      width: 32px;\n",
              "    }\n",
              "\n",
              "    .colab-df-convert:hover {\n",
              "      background-color: #E2EBFA;\n",
              "      box-shadow: 0px 1px 2px rgba(60, 64, 67, 0.3), 0px 1px 3px 1px rgba(60, 64, 67, 0.15);\n",
              "      fill: #174EA6;\n",
              "    }\n",
              "\n",
              "    [theme=dark] .colab-df-convert {\n",
              "      background-color: #3B4455;\n",
              "      fill: #D2E3FC;\n",
              "    }\n",
              "\n",
              "    [theme=dark] .colab-df-convert:hover {\n",
              "      background-color: #434B5C;\n",
              "      box-shadow: 0px 1px 3px 1px rgba(0, 0, 0, 0.15);\n",
              "      filter: drop-shadow(0px 1px 2px rgba(0, 0, 0, 0.3));\n",
              "      fill: #FFFFFF;\n",
              "    }\n",
              "  </style>\n",
              "\n",
              "      <script>\n",
              "        const buttonEl =\n",
              "          document.querySelector('#df-dbe5935f-e26d-48ea-807b-ef89ead12e34 button.colab-df-convert');\n",
              "        buttonEl.style.display =\n",
              "          google.colab.kernel.accessAllowed ? 'block' : 'none';\n",
              "\n",
              "        async function convertToInteractive(key) {\n",
              "          const element = document.querySelector('#df-dbe5935f-e26d-48ea-807b-ef89ead12e34');\n",
              "          const dataTable =\n",
              "            await google.colab.kernel.invokeFunction('convertToInteractive',\n",
              "                                                     [key], {});\n",
              "          if (!dataTable) return;\n",
              "\n",
              "          const docLinkHtml = 'Like what you see? Visit the ' +\n",
              "            '<a target=\"_blank\" href=https://colab.research.google.com/notebooks/data_table.ipynb>data table notebook</a>'\n",
              "            + ' to learn more about interactive tables.';\n",
              "          element.innerHTML = '';\n",
              "          dataTable['output_type'] = 'display_data';\n",
              "          await google.colab.output.renderOutput(dataTable, element);\n",
              "          const docLink = document.createElement('div');\n",
              "          docLink.innerHTML = docLinkHtml;\n",
              "          element.appendChild(docLink);\n",
              "        }\n",
              "      </script>\n",
              "    </div>\n",
              "  </div>\n",
              "  "
            ]
          },
          "metadata": {},
          "execution_count": 184
        }
      ]
    },
    {
      "cell_type": "code",
      "source": [
        "def export_graph(x):\n",
        "  df_1=df.loc[x:x+1,['2012년', '2013년', '2014년', '2015년',\n",
        "       '2016년', '2017년', '2018년', '2019년', '2020년']]\n",
        "  df_1=df_1.transpose()\n",
        "  cost0 = df_1[x][0:9]\n",
        "  cost1 = df_1[x+1][0:9]\n",
        "  cost1.index = ['2012년', '2013년', '2014년', '2015년',\n",
        "       '2016년', '2017년', '2018년', '2019년', '2020년']\n",
        "\n",
        "  index = np.arange(len(cost1.index))\n",
        "  plt.bar(index,cost0,label='export amount')\n",
        "  plt.bar(index,cost1,label='environment')\n",
        "\n",
        "\n",
        "  plt.gca().spines['top'].set_visible(False)\n",
        "  plt.gca().spines['right'].set_visible(False)\n",
        "  plt.xticks(index,cost1.index)\n",
        "  #plt.yticks([0, 9])\n",
        "\n",
        "  plt.legend()\n",
        "  plt.xlabel('year')\n",
        "  plt.ylabel('money')\n",
        "  return plt      "
      ],
      "metadata": {
        "id": "OxZJXVtPOsHa"
      },
      "execution_count": null,
      "outputs": []
    },
    {
      "cell_type": "code",
      "source": [
        "# x값은 0부터 2의 배수로 입력해야함\n",
        "export_graph(4)"
      ],
      "metadata": {
        "colab": {
          "base_uri": "https://localhost:8080/",
          "height": 297
        },
        "id": "Ue2oe6BFP7nS",
        "outputId": "e85fbdc1-b8e7-4626-87b1-22f11be4636c"
      },
      "execution_count": null,
      "outputs": [
        {
          "output_type": "execute_result",
          "data": {
            "text/plain": [
              "<module 'matplotlib.pyplot' from '/usr/local/lib/python3.8/dist-packages/matplotlib/pyplot.py'>"
            ]
          },
          "metadata": {},
          "execution_count": 158
        },
        {
          "output_type": "display_data",
          "data": {
            "text/plain": [
              "<Figure size 432x288 with 1 Axes>"
            ],
            "image/png": "[encoded data removed]"
          },
          "metadata": {
            "needs_background": "light"
          }
        }
      ]
    },
    {
      "cell_type": "code",
      "source": [
        "# 01 소계  23 45 67"
      ],
      "metadata": {
        "id": "_8E4bUJwjsNT"
      },
      "execution_count": null,
      "outputs": []
    },
    {
      "cell_type": "markdown",
      "source": [
        "##환경부 수출액 상위3개분야 연도별 매출"
      ],
      "metadata": {
        "id": "-qvHyqHdkbSo"
      }
    },
    {
      "cell_type": "code",
      "source": [
        "#그래프 추출 범위지정\n",
        "df_1=df.loc[0:5,['2016년', '2017년', '2018년', '2019년', '2020년']]\n",
        "df_1=df_1.transpose()\n",
        "\n",
        "#수출액, 환경부분수출액 2개의 막대그래프 합치기\n",
        "cost0 = df_1[0][0:9]\n",
        "cost1 = df_1[1][0:9]\n",
        "cost1.index = ['2016년', '2017년', '2018년', '2019년', '2020년']\n",
        "\n",
        "cost2 = df_1[2][0:9]\n",
        "cost3 = df_1[3][0:9] \n",
        "\n",
        "cost4 = df_1[4][0:9]\n",
        "cost5 = df_1[5][0:9] \n",
        "\n",
        "#바의 넓이, 그래프크기 지정\n",
        "bar_width=0.25\n",
        "fig, ax = plt.subplots(figsize=(12,6))\n",
        "\n",
        "index = np.arange(len(cost1.index))\n",
        "plt.bar(index,cost0,bar_width,label='export amount')\n",
        "plt.bar(index,cost1,bar_width,label='environment')\n",
        "\n",
        "plt.bar(index-bar_width,cost2,bar_width, label='export amount')\n",
        "plt.bar(index-bar_width,cost3,bar_width, label='environment')\n",
        "\n",
        "plt.bar(index+bar_width,cost4,bar_width, label='export amount')\n",
        "plt.bar(index+bar_width,cost5,bar_width, label='environment')\n",
        "\n",
        "plt.gca().spines['top'].set_visible(False)\n",
        "plt.gca().spines['right'].set_visible(False)\n",
        "plt.xticks(index,cost1.index)\n",
        "#plt.yticks([0, 9])\n",
        "\n",
        "plt.legend()\n",
        "plt.xlabel('year')\n",
        "plt.ylabel('money')  "
      ],
      "metadata": {
        "colab": {
          "base_uri": "https://localhost:8080/",
          "height": 461
        },
        "id": "EJLH5QdJhVNG",
        "outputId": "6b88eebf-42ba-41be-de6b-2e3b2bb67c88"
      },
      "execution_count": null,
      "outputs": [
        {
          "output_type": "execute_result",
          "data": {
            "text/plain": [
              "Text(0, 0.5, 'money')"
            ]
          },
          "metadata": {},
          "execution_count": 185
        },
        {
          "output_type": "stream",
          "name": "stderr",
          "text": [
            "/usr/local/lib/python3.8/dist-packages/matplotlib/backends/backend_agg.py:214: RuntimeWarning: Glyph 45380 missing from current font.\n",
            "  font.set_text(s, 0.0, flags=flags)\n",
            "/usr/local/lib/python3.8/dist-packages/matplotlib/backends/backend_agg.py:183: RuntimeWarning: Glyph 45380 missing from current font.\n",
            "  font.set_text(s, 0, flags=flags)\n"
          ]
        },
        {
          "output_type": "display_data",
          "data": {
            "text/plain": [
              "<Figure size 864x432 with 1 Axes>"
            ],
            "image/png": "[encoded data removed]"
          },
          "metadata": {
            "needs_background": "light"
          }
        }
      ]
    }
  ]
}